{
 "cells": [
  {
   "cell_type": "markdown",
   "metadata": {},
   "source": [
    "## Preprocessing"
   ]
  },
  {
   "cell_type": "code",
   "execution_count": 84,
   "metadata": {},
   "outputs": [
    {
     "name": "stdout",
     "output_type": "stream",
     "text": [
      "Requirement already satisfied: tensorflow in c:\\users\\matth\\anaconda3\\envs\\pythondata\\lib\\site-packages (2.11.0)\n",
      "Requirement already satisfied: tensorflow-intel==2.11.0; platform_system == \"Windows\" in c:\\users\\matth\\anaconda3\\envs\\pythondata\\lib\\site-packages (from tensorflow) (2.11.0)\n",
      "Requirement already satisfied: tensorflow-io-gcs-filesystem>=0.23.1; platform_machine != \"arm64\" or platform_system != \"Darwin\" in c:\\users\\matth\\anaconda3\\envs\\pythondata\\lib\\site-packages (from tensorflow-intel==2.11.0; platform_system == \"Windows\"->tensorflow) (0.31.0)\n",
      "Requirement already satisfied: flatbuffers>=2.0 in c:\\users\\matth\\anaconda3\\envs\\pythondata\\lib\\site-packages (from tensorflow-intel==2.11.0; platform_system == \"Windows\"->tensorflow) (23.3.3)\n",
      "Requirement already satisfied: numpy>=1.20 in c:\\users\\matth\\anaconda3\\envs\\pythondata\\lib\\site-packages (from tensorflow-intel==2.11.0; platform_system == \"Windows\"->tensorflow) (1.21.6)\n",
      "Requirement already satisfied: six>=1.12.0 in c:\\users\\matth\\anaconda3\\envs\\pythondata\\lib\\site-packages (from tensorflow-intel==2.11.0; platform_system == \"Windows\"->tensorflow) (1.15.0)\n",
      "Requirement already satisfied: typing-extensions>=3.6.6 in c:\\users\\matth\\anaconda3\\envs\\pythondata\\lib\\site-packages (from tensorflow-intel==2.11.0; platform_system == \"Windows\"->tensorflow) (4.1.1)\n",
      "Requirement already satisfied: tensorboard<2.12,>=2.11 in c:\\users\\matth\\anaconda3\\envs\\pythondata\\lib\\site-packages (from tensorflow-intel==2.11.0; platform_system == \"Windows\"->tensorflow) (2.11.2)\n",
      "Requirement already satisfied: google-pasta>=0.1.1 in c:\\users\\matth\\anaconda3\\envs\\pythondata\\lib\\site-packages (from tensorflow-intel==2.11.0; platform_system == \"Windows\"->tensorflow) (0.2.0)\n",
      "Requirement already satisfied: absl-py>=1.0.0 in c:\\users\\matth\\anaconda3\\envs\\pythondata\\lib\\site-packages (from tensorflow-intel==2.11.0; platform_system == \"Windows\"->tensorflow) (1.4.0)\n",
      "Requirement already satisfied: protobuf<3.20,>=3.9.2 in c:\\users\\matth\\anaconda3\\envs\\pythondata\\lib\\site-packages (from tensorflow-intel==2.11.0; platform_system == \"Windows\"->tensorflow) (3.19.6)\n",
      "Requirement already satisfied: keras<2.12,>=2.11.0 in c:\\users\\matth\\anaconda3\\envs\\pythondata\\lib\\site-packages (from tensorflow-intel==2.11.0; platform_system == \"Windows\"->tensorflow) (2.11.0)\n",
      "Requirement already satisfied: termcolor>=1.1.0 in c:\\users\\matth\\anaconda3\\envs\\pythondata\\lib\\site-packages (from tensorflow-intel==2.11.0; platform_system == \"Windows\"->tensorflow) (2.2.0)\n",
      "Requirement already satisfied: opt-einsum>=2.3.2 in c:\\users\\matth\\anaconda3\\envs\\pythondata\\lib\\site-packages (from tensorflow-intel==2.11.0; platform_system == \"Windows\"->tensorflow) (3.3.0)\n",
      "Requirement already satisfied: astunparse>=1.6.0 in c:\\users\\matth\\anaconda3\\envs\\pythondata\\lib\\site-packages (from tensorflow-intel==2.11.0; platform_system == \"Windows\"->tensorflow) (1.6.3)\n",
      "Requirement already satisfied: grpcio<2.0,>=1.24.3 in c:\\users\\matth\\anaconda3\\envs\\pythondata\\lib\\site-packages (from tensorflow-intel==2.11.0; platform_system == \"Windows\"->tensorflow) (1.51.3)\n",
      "Requirement already satisfied: gast<=0.4.0,>=0.2.1 in c:\\users\\matth\\anaconda3\\envs\\pythondata\\lib\\site-packages (from tensorflow-intel==2.11.0; platform_system == \"Windows\"->tensorflow) (0.4.0)\n",
      "Requirement already satisfied: tensorflow-estimator<2.12,>=2.11.0 in c:\\users\\matth\\anaconda3\\envs\\pythondata\\lib\\site-packages (from tensorflow-intel==2.11.0; platform_system == \"Windows\"->tensorflow) (2.11.0)\n",
      "Requirement already satisfied: h5py>=2.9.0 in c:\\users\\matth\\anaconda3\\envs\\pythondata\\lib\\site-packages (from tensorflow-intel==2.11.0; platform_system == \"Windows\"->tensorflow) (3.8.0)\n",
      "Requirement already satisfied: packaging in c:\\users\\matth\\anaconda3\\envs\\pythondata\\lib\\site-packages (from tensorflow-intel==2.11.0; platform_system == \"Windows\"->tensorflow) (21.3)\n",
      "Requirement already satisfied: libclang>=13.0.0 in c:\\users\\matth\\anaconda3\\envs\\pythondata\\lib\\site-packages (from tensorflow-intel==2.11.0; platform_system == \"Windows\"->tensorflow) (15.0.6.1)\n",
      "Requirement already satisfied: setuptools in c:\\users\\matth\\anaconda3\\envs\\pythondata\\lib\\site-packages (from tensorflow-intel==2.11.0; platform_system == \"Windows\"->tensorflow) (47.3.1.post20200622)\n",
      "Requirement already satisfied: wrapt>=1.11.0 in c:\\users\\matth\\anaconda3\\envs\\pythondata\\lib\\site-packages (from tensorflow-intel==2.11.0; platform_system == \"Windows\"->tensorflow) (1.15.0)\n",
      "Requirement already satisfied: werkzeug>=1.0.1 in c:\\users\\matth\\anaconda3\\envs\\pythondata\\lib\\site-packages (from tensorboard<2.12,>=2.11->tensorflow-intel==2.11.0; platform_system == \"Windows\"->tensorflow) (2.2.3)\n",
      "Requirement already satisfied: tensorboard-data-server<0.7.0,>=0.6.0 in c:\\users\\matth\\anaconda3\\envs\\pythondata\\lib\\site-packages (from tensorboard<2.12,>=2.11->tensorflow-intel==2.11.0; platform_system == \"Windows\"->tensorflow) (0.6.1)\n",
      "Requirement already satisfied: google-auth<3,>=1.6.3 in c:\\users\\matth\\anaconda3\\envs\\pythondata\\lib\\site-packages (from tensorboard<2.12,>=2.11->tensorflow-intel==2.11.0; platform_system == \"Windows\"->tensorflow) (2.16.2)\n",
      "Requirement already satisfied: requests<3,>=2.21.0 in c:\\users\\matth\\anaconda3\\envs\\pythondata\\lib\\site-packages (from tensorboard<2.12,>=2.11->tensorflow-intel==2.11.0; platform_system == \"Windows\"->tensorflow) (2.27.1)\n",
      "Requirement already satisfied: wheel>=0.26 in c:\\users\\matth\\anaconda3\\envs\\pythondata\\lib\\site-packages (from tensorboard<2.12,>=2.11->tensorflow-intel==2.11.0; platform_system == \"Windows\"->tensorflow) (0.34.2)\n",
      "Requirement already satisfied: google-auth-oauthlib<0.5,>=0.4.1 in c:\\users\\matth\\anaconda3\\envs\\pythondata\\lib\\site-packages (from tensorboard<2.12,>=2.11->tensorflow-intel==2.11.0; platform_system == \"Windows\"->tensorflow) (0.4.6)\n",
      "Requirement already satisfied: tensorboard-plugin-wit>=1.6.0 in c:\\users\\matth\\anaconda3\\envs\\pythondata\\lib\\site-packages (from tensorboard<2.12,>=2.11->tensorflow-intel==2.11.0; platform_system == \"Windows\"->tensorflow) (1.8.1)\n",
      "Requirement already satisfied: markdown>=2.6.8 in c:\\users\\matth\\anaconda3\\envs\\pythondata\\lib\\site-packages (from tensorboard<2.12,>=2.11->tensorflow-intel==2.11.0; platform_system == \"Windows\"->tensorflow) (3.4.1)\n",
      "Requirement already satisfied: pyparsing!=3.0.5,>=2.0.2 in c:\\users\\matth\\anaconda3\\envs\\pythondata\\lib\\site-packages (from packaging->tensorflow-intel==2.11.0; platform_system == \"Windows\"->tensorflow) (2.4.7)\n",
      "Requirement already satisfied: MarkupSafe>=2.1.1 in c:\\users\\matth\\anaconda3\\envs\\pythondata\\lib\\site-packages (from werkzeug>=1.0.1->tensorboard<2.12,>=2.11->tensorflow-intel==2.11.0; platform_system == \"Windows\"->tensorflow) (2.1.2)\n",
      "Requirement already satisfied: cachetools<6.0,>=2.0.0 in c:\\users\\matth\\anaconda3\\envs\\pythondata\\lib\\site-packages (from google-auth<3,>=1.6.3->tensorboard<2.12,>=2.11->tensorflow-intel==2.11.0; platform_system == \"Windows\"->tensorflow) (5.3.0)\n",
      "Requirement already satisfied: rsa<5,>=3.1.4; python_version >= \"3.6\" in c:\\users\\matth\\anaconda3\\envs\\pythondata\\lib\\site-packages (from google-auth<3,>=1.6.3->tensorboard<2.12,>=2.11->tensorflow-intel==2.11.0; platform_system == \"Windows\"->tensorflow) (4.9)\n",
      "Requirement already satisfied: pyasn1-modules>=0.2.1 in c:\\users\\matth\\anaconda3\\envs\\pythondata\\lib\\site-packages (from google-auth<3,>=1.6.3->tensorboard<2.12,>=2.11->tensorflow-intel==2.11.0; platform_system == \"Windows\"->tensorflow) (0.2.8)\n",
      "Requirement already satisfied: idna<4,>=2.5; python_version >= \"3\" in c:\\users\\matth\\anaconda3\\envs\\pythondata\\lib\\site-packages (from requests<3,>=2.21.0->tensorboard<2.12,>=2.11->tensorflow-intel==2.11.0; platform_system == \"Windows\"->tensorflow) (3.3)\n",
      "Requirement already satisfied: urllib3<1.27,>=1.21.1 in c:\\users\\matth\\anaconda3\\envs\\pythondata\\lib\\site-packages (from requests<3,>=2.21.0->tensorboard<2.12,>=2.11->tensorflow-intel==2.11.0; platform_system == \"Windows\"->tensorflow) (1.26.9)\n",
      "Requirement already satisfied: certifi>=2017.4.17 in c:\\users\\matth\\anaconda3\\envs\\pythondata\\lib\\site-packages (from requests<3,>=2.21.0->tensorboard<2.12,>=2.11->tensorflow-intel==2.11.0; platform_system == \"Windows\"->tensorflow) (2022.6.15)\n",
      "Requirement already satisfied: charset-normalizer~=2.0.0; python_version >= \"3\" in c:\\users\\matth\\anaconda3\\envs\\pythondata\\lib\\site-packages (from requests<3,>=2.21.0->tensorboard<2.12,>=2.11->tensorflow-intel==2.11.0; platform_system == \"Windows\"->tensorflow) (2.0.12)\n",
      "Requirement already satisfied: requests-oauthlib>=0.7.0 in c:\\users\\matth\\anaconda3\\envs\\pythondata\\lib\\site-packages (from google-auth-oauthlib<0.5,>=0.4.1->tensorboard<2.12,>=2.11->tensorflow-intel==2.11.0; platform_system == \"Windows\"->tensorflow) (1.3.1)\n",
      "Requirement already satisfied: importlib-metadata>=4.4; python_version < \"3.10\" in c:\\users\\matth\\anaconda3\\envs\\pythondata\\lib\\site-packages (from markdown>=2.6.8->tensorboard<2.12,>=2.11->tensorflow-intel==2.11.0; platform_system == \"Windows\"->tensorflow) (4.11.3)\n",
      "Requirement already satisfied: pyasn1>=0.1.3 in c:\\users\\matth\\anaconda3\\envs\\pythondata\\lib\\site-packages (from rsa<5,>=3.1.4; python_version >= \"3.6\"->google-auth<3,>=1.6.3->tensorboard<2.12,>=2.11->tensorflow-intel==2.11.0; platform_system == \"Windows\"->tensorflow) (0.4.8)\n",
      "Requirement already satisfied: oauthlib>=3.0.0 in c:\\users\\matth\\anaconda3\\envs\\pythondata\\lib\\site-packages (from requests-oauthlib>=0.7.0->google-auth-oauthlib<0.5,>=0.4.1->tensorboard<2.12,>=2.11->tensorflow-intel==2.11.0; platform_system == \"Windows\"->tensorflow) (3.2.2)\n",
      "Requirement already satisfied: zipp>=0.5 in c:\\users\\matth\\anaconda3\\envs\\pythondata\\lib\\site-packages (from importlib-metadata>=4.4; python_version < \"3.10\"->markdown>=2.6.8->tensorboard<2.12,>=2.11->tensorflow-intel==2.11.0; platform_system == \"Windows\"->tensorflow) (3.7.0)\n"
     ]
    }
   ],
   "source": [
    "!pip install tensorflow\n",
    "\n",
    "# Import our dependencies\n",
    "from sklearn.model_selection import train_test_split\n",
    "from sklearn.preprocessing import StandardScaler\n",
    "import pandas as pd\n",
    "import tensorflow as tf\n",
    "\n",
    "#  Import and read the csv.\n",
    "import pandas as pd \n",
    "airlines_df = pd.read_csv(\"csvs/airlines.csv\")\n",
    "flights_df = pd.read_csv(\"csvs/flights.csv\")\n",
    "airports_df = pd.read_csv(\"csvs/airports.csv\")\n"
   ]
  },
  {
   "cell_type": "code",
   "execution_count": 85,
   "metadata": {},
   "outputs": [
    {
     "name": "stdout",
     "output_type": "stream",
     "text": [
      "        AIRLINE ORIGIN_AIRPORT DESTINATION_AIRPORT\n",
      "count   1048575        1048575             1048575\n",
      "unique       14            315                 315\n",
      "top          WN            ATL                 ATL\n",
      "freq     221586          66599               66741\n"
     ]
    }
   ],
   "source": [
    "print(flights_df.describe(include=['object']))"
   ]
  },
  {
   "cell_type": "code",
   "execution_count": 86,
   "metadata": {},
   "outputs": [
    {
     "data": {
      "text/plain": [
       "<bound method NDFrame.head of          MONTH  DAY  DAY_OF_WEEK AIRLINE ORIGIN_AIRPORT DESTINATION_AIRPORT  \\\n",
       "0            1    1            4      AS            ANC                 SEA   \n",
       "1            1    1            4      AA            LAX                 PBI   \n",
       "2            1    1            4      US            SFO                 CLT   \n",
       "3            1    1            4      AA            LAX                 MIA   \n",
       "4            1    1            4      AS            SEA                 ANC   \n",
       "...        ...  ...          ...     ...            ...                 ...   \n",
       "1048570      3   10            2      EV            RDU                 EWR   \n",
       "1048571      3   10            2      UA            LGA                 IAH   \n",
       "1048572      3   10            2      UA            SAN                 ORD   \n",
       "1048573      3   10            2      EV            MSY                 ORD   \n",
       "1048574      3   10            2      MQ            CID                 ORD   \n",
       "\n",
       "         SCHEDULED_DEPARTURE  DEPARTURE_TIME  DEPARTURE_DELAY  SCHEDULED_TIME  \\\n",
       "0                          5          2354.0            -11.0           205.0   \n",
       "1                         10             2.0             -8.0           280.0   \n",
       "2                         20            18.0             -2.0           286.0   \n",
       "3                         20            15.0             -5.0           285.0   \n",
       "4                         25            24.0             -1.0           235.0   \n",
       "...                      ...             ...              ...             ...   \n",
       "1048570                 1013          1005.0             -8.0            96.0   \n",
       "1048571                 1013          1005.0             -8.0           264.0   \n",
       "1048572                 1013          1010.0             -3.0           251.0   \n",
       "1048573                 1013          1003.0            -10.0           149.0   \n",
       "1048574                 1013             NaN              NaN            62.0   \n",
       "\n",
       "         DISTANCE  SCHEDULED_ARRIVAL  ARRIVAL_TIME  ARRIVAL_DELAY  DIVERTED  \n",
       "0            1448                430         408.0          -22.0         0  \n",
       "1            2330                750         741.0           -9.0         0  \n",
       "2            2296                806         811.0            5.0         0  \n",
       "3            2342                805         756.0           -9.0         0  \n",
       "4            1448                320         259.0          -21.0         0  \n",
       "...           ...                ...           ...            ...       ...  \n",
       "1048570       416               1149        1133.0          -16.0         0  \n",
       "1048571      1416               1337        1335.0           -2.0         0  \n",
       "1048572      1723               1624        1627.0            3.0         0  \n",
       "1048573       837               1242        1229.0          -13.0         0  \n",
       "1048574       196               1115           NaN            NaN         0  \n",
       "\n",
       "[1048575 rows x 15 columns]>"
      ]
     },
     "execution_count": 86,
     "metadata": {},
     "output_type": "execute_result"
    }
   ],
   "source": [
    "# Drop the non-beneficial columns\n",
    "flights = flights_df\n",
    "flights.head"
   ]
  },
  {
   "cell_type": "code",
   "execution_count": 87,
   "metadata": {},
   "outputs": [
    {
     "data": {
      "text/plain": [
       "MONTH                     3\n",
       "DAY                      31\n",
       "DAY_OF_WEEK               7\n",
       "AIRLINE                  14\n",
       "ORIGIN_AIRPORT          315\n",
       "DESTINATION_AIRPORT     315\n",
       "SCHEDULED_DEPARTURE    1236\n",
       "DEPARTURE_TIME         1434\n",
       "DEPARTURE_DELAY         861\n",
       "SCHEDULED_TIME          460\n",
       "DISTANCE               1271\n",
       "SCHEDULED_ARRIVAL      1353\n",
       "ARRIVAL_TIME           1440\n",
       "ARRIVAL_DELAY           883\n",
       "DIVERTED                  2\n",
       "dtype: int64"
      ]
     },
     "execution_count": 87,
     "metadata": {},
     "output_type": "execute_result"
    }
   ],
   "source": [
    "# Determine the number of unique values in each column.\n",
    "flights.nunique()"
   ]
  },
  {
   "cell_type": "code",
   "execution_count": 88,
   "metadata": {},
   "outputs": [
    {
     "data": {
      "text/plain": [
       "WN    221586\n",
       "DL    147486\n",
       "EV    111206\n",
       "OO    107099\n",
       "AA     97549\n",
       "UA     87606\n",
       "US     73942\n",
       "MQ     65513\n",
       "B6     48157\n",
       "AS     29614\n",
       "NK     19612\n",
       "F9     14669\n",
       "HA     14133\n",
       "VX     10403\n",
       "Name: AIRLINE, dtype: int64"
      ]
     },
     "execution_count": 88,
     "metadata": {},
     "output_type": "execute_result"
    }
   ],
   "source": [
    "# Look at value counts for binning\n",
    "counts = flights['AIRLINE'].value_counts()\n",
    "counts"
   ]
  },
  {
   "cell_type": "code",
   "execution_count": 89,
   "metadata": {},
   "outputs": [
    {
     "data": {
      "text/plain": [
       "['WN',\n",
       " 'DL',\n",
       " 'EV',\n",
       " 'OO',\n",
       " 'AA',\n",
       " 'UA',\n",
       " 'US',\n",
       " 'MQ',\n",
       " 'B6',\n",
       " 'AS',\n",
       " 'NK',\n",
       " 'F9',\n",
       " 'HA',\n",
       " 'VX']"
      ]
     },
     "execution_count": 89,
     "metadata": {},
     "output_type": "execute_result"
    }
   ],
   "source": [
    "# Choose a cutoff value and create a list of types to be replaced\n",
    "# use the variable name `application_types_to_replace\n",
    "flight_types_to_replace = list(counts[counts<571977].index)\n",
    "flight_types_to_replace"
   ]
  },
  {
   "cell_type": "code",
   "execution_count": 90,
   "metadata": {},
   "outputs": [
    {
     "data": {
      "text/plain": [
       "Other    1048575\n",
       "Name: AIRLINE, dtype: int64"
      ]
     },
     "execution_count": 90,
     "metadata": {},
     "output_type": "execute_result"
    }
   ],
   "source": [
    "# Replace in dataframe\n",
    "for airline in flight_types_to_replace:\n",
    "    flights['AIRLINE'] = flights['AIRLINE'].replace(airline,\"Other\")\n",
    "\n",
    "# Check to make sure binning was successful\n",
    "flights['AIRLINE'].value_counts()"
   ]
  },
  {
   "cell_type": "code",
   "execution_count": 91,
   "metadata": {},
   "outputs": [
    {
     "data": {
      "text/plain": [
       "5     49180\n",
       "2     49165\n",
       "9     48781\n",
       "4     48089\n",
       "6     48024\n",
       "8     46844\n",
       "3     46586\n",
       "1     42527\n",
       "7     42056\n",
       "10    32565\n",
       "23    32431\n",
       "16    32372\n",
       "26    32331\n",
       "19    32243\n",
       "12    32191\n",
       "20    31657\n",
       "13    31656\n",
       "27    31615\n",
       "22    31190\n",
       "25    30879\n",
       "15    30428\n",
       "11    30295\n",
       "18    30030\n",
       "21    28422\n",
       "28    28407\n",
       "24    28186\n",
       "17    28147\n",
       "14    28131\n",
       "30    16080\n",
       "29    16030\n",
       "31    12037\n",
       "Name: DAY, dtype: int64"
      ]
     },
     "execution_count": 91,
     "metadata": {},
     "output_type": "execute_result"
    }
   ],
   "source": [
    "# Look at DAY value counts for binning\n",
    "day_counts = flights['DAY'].value_counts()\n",
    "day_counts"
   ]
  },
  {
   "cell_type": "code",
   "execution_count": 92,
   "metadata": {},
   "outputs": [
    {
     "data": {
      "text/plain": [
       "['DL', 'EV', 'OO', 'AA', 'UA', 'US', 'MQ', 'B6', 'AS', 'NK', 'F9', 'HA', 'VX']"
      ]
     },
     "execution_count": 92,
     "metadata": {},
     "output_type": "execute_result"
    }
   ],
   "source": [
    "# You may find it helpful to look at CLASSIFICATION value counts \n",
    "flights_to_replace = list(counts[counts<195089].index)\n",
    "flights_to_replace"
   ]
  },
  {
   "cell_type": "code",
   "execution_count": 93,
   "metadata": {},
   "outputs": [
    {
     "ename": "MemoryError",
     "evalue": "Unable to allocate 2.46 GiB for an array with shape (315, 1048575) and data type float64",
     "output_type": "error",
     "traceback": [
      "\u001b[1;31m---------------------------------------------------------------------------\u001b[0m",
      "\u001b[1;31mMemoryError\u001b[0m                               Traceback (most recent call last)",
      "\u001b[1;32m~\\AppData\\Local\\Temp\\ipykernel_96476\\470152396.py\u001b[0m in \u001b[0;36m<module>\u001b[1;34m\u001b[0m\n\u001b[0;32m      1\u001b[0m \u001b[1;31m# Convert categorical data to numeric\u001b[0m\u001b[1;33m\u001b[0m\u001b[1;33m\u001b[0m\u001b[1;33m\u001b[0m\u001b[0m\n\u001b[1;32m----> 2\u001b[1;33m \u001b[0mflights\u001b[0m \u001b[1;33m=\u001b[0m \u001b[0mpd\u001b[0m\u001b[1;33m.\u001b[0m\u001b[0mget_dummies\u001b[0m\u001b[1;33m(\u001b[0m\u001b[0mflights\u001b[0m\u001b[1;33m,\u001b[0m\u001b[0mdtype\u001b[0m\u001b[1;33m=\u001b[0m\u001b[0mfloat\u001b[0m\u001b[1;33m)\u001b[0m\u001b[1;33m\u001b[0m\u001b[1;33m\u001b[0m\u001b[0m\n\u001b[0m\u001b[0;32m      3\u001b[0m \u001b[0mflights\u001b[0m\u001b[1;33m.\u001b[0m\u001b[0mhead\u001b[0m\u001b[1;33m(\u001b[0m\u001b[1;33m)\u001b[0m\u001b[1;33m\u001b[0m\u001b[1;33m\u001b[0m\u001b[0m\n",
      "\u001b[1;32mc:\\Users\\matth\\anaconda3\\envs\\PythonData\\lib\\site-packages\\pandas\\core\\reshape\\reshape.py\u001b[0m in \u001b[0;36mget_dummies\u001b[1;34m(data, prefix, prefix_sep, dummy_na, columns, sparse, drop_first, dtype)\u001b[0m\n\u001b[0;32m    923\u001b[0m             )\n\u001b[0;32m    924\u001b[0m             \u001b[0mwith_dummies\u001b[0m\u001b[1;33m.\u001b[0m\u001b[0mappend\u001b[0m\u001b[1;33m(\u001b[0m\u001b[0mdummy\u001b[0m\u001b[1;33m)\u001b[0m\u001b[1;33m\u001b[0m\u001b[1;33m\u001b[0m\u001b[0m\n\u001b[1;32m--> 925\u001b[1;33m         \u001b[0mresult\u001b[0m \u001b[1;33m=\u001b[0m \u001b[0mconcat\u001b[0m\u001b[1;33m(\u001b[0m\u001b[0mwith_dummies\u001b[0m\u001b[1;33m,\u001b[0m \u001b[0maxis\u001b[0m\u001b[1;33m=\u001b[0m\u001b[1;36m1\u001b[0m\u001b[1;33m)\u001b[0m\u001b[1;33m\u001b[0m\u001b[1;33m\u001b[0m\u001b[0m\n\u001b[0m\u001b[0;32m    926\u001b[0m     \u001b[1;32melse\u001b[0m\u001b[1;33m:\u001b[0m\u001b[1;33m\u001b[0m\u001b[1;33m\u001b[0m\u001b[0m\n\u001b[0;32m    927\u001b[0m         result = _get_dummies_1d(\n",
      "\u001b[1;32mc:\\Users\\matth\\anaconda3\\envs\\PythonData\\lib\\site-packages\\pandas\\core\\reshape\\concat.py\u001b[0m in \u001b[0;36mconcat\u001b[1;34m(objs, axis, join, ignore_index, keys, levels, names, verify_integrity, sort, copy)\u001b[0m\n\u001b[0;32m    282\u001b[0m     )\n\u001b[0;32m    283\u001b[0m \u001b[1;33m\u001b[0m\u001b[0m\n\u001b[1;32m--> 284\u001b[1;33m     \u001b[1;32mreturn\u001b[0m \u001b[0mop\u001b[0m\u001b[1;33m.\u001b[0m\u001b[0mget_result\u001b[0m\u001b[1;33m(\u001b[0m\u001b[1;33m)\u001b[0m\u001b[1;33m\u001b[0m\u001b[1;33m\u001b[0m\u001b[0m\n\u001b[0m\u001b[0;32m    285\u001b[0m \u001b[1;33m\u001b[0m\u001b[0m\n\u001b[0;32m    286\u001b[0m \u001b[1;33m\u001b[0m\u001b[0m\n",
      "\u001b[1;32mc:\\Users\\matth\\anaconda3\\envs\\PythonData\\lib\\site-packages\\pandas\\core\\reshape\\concat.py\u001b[0m in \u001b[0;36mget_result\u001b[1;34m(self)\u001b[0m\n\u001b[0;32m    495\u001b[0m \u001b[1;33m\u001b[0m\u001b[0m\n\u001b[0;32m    496\u001b[0m             new_data = concatenate_block_managers(\n\u001b[1;32m--> 497\u001b[1;33m                 \u001b[0mmgrs_indexers\u001b[0m\u001b[1;33m,\u001b[0m \u001b[0mself\u001b[0m\u001b[1;33m.\u001b[0m\u001b[0mnew_axes\u001b[0m\u001b[1;33m,\u001b[0m \u001b[0mconcat_axis\u001b[0m\u001b[1;33m=\u001b[0m\u001b[0mself\u001b[0m\u001b[1;33m.\u001b[0m\u001b[0maxis\u001b[0m\u001b[1;33m,\u001b[0m \u001b[0mcopy\u001b[0m\u001b[1;33m=\u001b[0m\u001b[0mself\u001b[0m\u001b[1;33m.\u001b[0m\u001b[0mcopy\u001b[0m\u001b[1;33m\u001b[0m\u001b[1;33m\u001b[0m\u001b[0m\n\u001b[0m\u001b[0;32m    498\u001b[0m             )\n\u001b[0;32m    499\u001b[0m             \u001b[1;32mif\u001b[0m \u001b[1;32mnot\u001b[0m \u001b[0mself\u001b[0m\u001b[1;33m.\u001b[0m\u001b[0mcopy\u001b[0m\u001b[1;33m:\u001b[0m\u001b[1;33m\u001b[0m\u001b[1;33m\u001b[0m\u001b[0m\n",
      "\u001b[1;32mc:\\Users\\matth\\anaconda3\\envs\\PythonData\\lib\\site-packages\\pandas\\core\\internals\\managers.py\u001b[0m in \u001b[0;36mconcatenate_block_managers\u001b[1;34m(mgrs_indexers, axes, concat_axis, copy)\u001b[0m\n\u001b[0;32m   2010\u001b[0m             \u001b[0mvalues\u001b[0m \u001b[1;33m=\u001b[0m \u001b[0mb\u001b[0m\u001b[1;33m.\u001b[0m\u001b[0mvalues\u001b[0m\u001b[1;33m\u001b[0m\u001b[1;33m\u001b[0m\u001b[0m\n\u001b[0;32m   2011\u001b[0m             \u001b[1;32mif\u001b[0m \u001b[0mcopy\u001b[0m\u001b[1;33m:\u001b[0m\u001b[1;33m\u001b[0m\u001b[1;33m\u001b[0m\u001b[0m\n\u001b[1;32m-> 2012\u001b[1;33m                 \u001b[0mvalues\u001b[0m \u001b[1;33m=\u001b[0m \u001b[0mvalues\u001b[0m\u001b[1;33m.\u001b[0m\u001b[0mcopy\u001b[0m\u001b[1;33m(\u001b[0m\u001b[1;33m)\u001b[0m\u001b[1;33m\u001b[0m\u001b[1;33m\u001b[0m\u001b[0m\n\u001b[0m\u001b[0;32m   2013\u001b[0m             \u001b[1;32melse\u001b[0m\u001b[1;33m:\u001b[0m\u001b[1;33m\u001b[0m\u001b[1;33m\u001b[0m\u001b[0m\n\u001b[0;32m   2014\u001b[0m                 \u001b[0mvalues\u001b[0m \u001b[1;33m=\u001b[0m \u001b[0mvalues\u001b[0m\u001b[1;33m.\u001b[0m\u001b[0mview\u001b[0m\u001b[1;33m(\u001b[0m\u001b[1;33m)\u001b[0m\u001b[1;33m\u001b[0m\u001b[1;33m\u001b[0m\u001b[0m\n",
      "\u001b[1;31mMemoryError\u001b[0m: Unable to allocate 2.46 GiB for an array with shape (315, 1048575) and data type float64"
     ]
    }
   ],
   "source": [
    "# Convert categorical data to numeric \n",
    "flights = pd.get_dummies(flights,dtype=float)\n",
    "flights.head()"
   ]
  },
  {
   "cell_type": "code",
   "execution_count": 94,
   "metadata": {},
   "outputs": [
    {
     "data": {
      "text/plain": [
       "array([-22.,  -9.,   5., ...,   3., -13.,  nan])"
      ]
     },
     "execution_count": 94,
     "metadata": {},
     "output_type": "execute_result"
    }
   ],
   "source": [
    "y = flights['ARRIVAL_DELAY'].values\n",
    "y"
   ]
  },
  {
   "cell_type": "code",
   "execution_count": 95,
   "metadata": {},
   "outputs": [
    {
     "data": {
      "text/plain": [
       "array([[1, 1, 4, ..., 430, 408.0, 0],\n",
       "       [1, 1, 4, ..., 750, 741.0, 0],\n",
       "       [1, 1, 4, ..., 806, 811.0, 0],\n",
       "       ...,\n",
       "       [3, 10, 2, ..., 1624, 1627.0, 0],\n",
       "       [3, 10, 2, ..., 1242, 1229.0, 0],\n",
       "       [3, 10, 2, ..., 1115, nan, 0]], dtype=object)"
      ]
     },
     "execution_count": 95,
     "metadata": {},
     "output_type": "execute_result"
    }
   ],
   "source": [
    "X = flights.drop('ARRIVAL_DELAY', axis=1).values\n",
    "X"
   ]
  },
  {
   "cell_type": "code",
   "execution_count": 96,
   "metadata": {},
   "outputs": [],
   "source": [
    "# Split the preprocessed data into a training and testing dataset\n",
    "X_train, X_test, y_train, y_test = train_test_split(X,y,random_state = 42)"
   ]
  },
  {
   "cell_type": "code",
   "execution_count": 97,
   "metadata": {},
   "outputs": [
    {
     "ename": "ValueError",
     "evalue": "could not convert string to float: 'Other'",
     "output_type": "error",
     "traceback": [
      "\u001b[1;31m---------------------------------------------------------------------------\u001b[0m",
      "\u001b[1;31mValueError\u001b[0m                                Traceback (most recent call last)",
      "\u001b[1;32m~\\AppData\\Local\\Temp\\ipykernel_96476\\2127983596.py\u001b[0m in \u001b[0;36m<module>\u001b[1;34m\u001b[0m\n\u001b[0;32m      3\u001b[0m \u001b[1;33m\u001b[0m\u001b[0m\n\u001b[0;32m      4\u001b[0m \u001b[1;31m# Fit the StandardScaler\u001b[0m\u001b[1;33m\u001b[0m\u001b[1;33m\u001b[0m\u001b[1;33m\u001b[0m\u001b[0m\n\u001b[1;32m----> 5\u001b[1;33m \u001b[0mX_scaler\u001b[0m \u001b[1;33m=\u001b[0m \u001b[0mscaler\u001b[0m\u001b[1;33m.\u001b[0m\u001b[0mfit\u001b[0m\u001b[1;33m(\u001b[0m\u001b[0mX_train\u001b[0m\u001b[1;33m)\u001b[0m\u001b[1;33m\u001b[0m\u001b[1;33m\u001b[0m\u001b[0m\n\u001b[0m\u001b[0;32m      6\u001b[0m \u001b[1;33m\u001b[0m\u001b[0m\n\u001b[0;32m      7\u001b[0m \u001b[1;31m# Scale the data\u001b[0m\u001b[1;33m\u001b[0m\u001b[1;33m\u001b[0m\u001b[1;33m\u001b[0m\u001b[0m\n",
      "\u001b[1;32mc:\\Users\\matth\\anaconda3\\envs\\PythonData\\lib\\site-packages\\sklearn\\preprocessing\\_data.py\u001b[0m in \u001b[0;36mfit\u001b[1;34m(self, X, y, sample_weight)\u001b[0m\n\u001b[0;32m    804\u001b[0m         \u001b[1;31m# Reset internal state before fitting\u001b[0m\u001b[1;33m\u001b[0m\u001b[1;33m\u001b[0m\u001b[1;33m\u001b[0m\u001b[0m\n\u001b[0;32m    805\u001b[0m         \u001b[0mself\u001b[0m\u001b[1;33m.\u001b[0m\u001b[0m_reset\u001b[0m\u001b[1;33m(\u001b[0m\u001b[1;33m)\u001b[0m\u001b[1;33m\u001b[0m\u001b[1;33m\u001b[0m\u001b[0m\n\u001b[1;32m--> 806\u001b[1;33m         \u001b[1;32mreturn\u001b[0m \u001b[0mself\u001b[0m\u001b[1;33m.\u001b[0m\u001b[0mpartial_fit\u001b[0m\u001b[1;33m(\u001b[0m\u001b[0mX\u001b[0m\u001b[1;33m,\u001b[0m \u001b[0my\u001b[0m\u001b[1;33m,\u001b[0m \u001b[0msample_weight\u001b[0m\u001b[1;33m)\u001b[0m\u001b[1;33m\u001b[0m\u001b[1;33m\u001b[0m\u001b[0m\n\u001b[0m\u001b[0;32m    807\u001b[0m \u001b[1;33m\u001b[0m\u001b[0m\n\u001b[0;32m    808\u001b[0m     \u001b[1;32mdef\u001b[0m \u001b[0mpartial_fit\u001b[0m\u001b[1;33m(\u001b[0m\u001b[0mself\u001b[0m\u001b[1;33m,\u001b[0m \u001b[0mX\u001b[0m\u001b[1;33m,\u001b[0m \u001b[0my\u001b[0m\u001b[1;33m=\u001b[0m\u001b[1;32mNone\u001b[0m\u001b[1;33m,\u001b[0m \u001b[0msample_weight\u001b[0m\u001b[1;33m=\u001b[0m\u001b[1;32mNone\u001b[0m\u001b[1;33m)\u001b[0m\u001b[1;33m:\u001b[0m\u001b[1;33m\u001b[0m\u001b[1;33m\u001b[0m\u001b[0m\n",
      "\u001b[1;32mc:\\Users\\matth\\anaconda3\\envs\\PythonData\\lib\\site-packages\\sklearn\\preprocessing\\_data.py\u001b[0m in \u001b[0;36mpartial_fit\u001b[1;34m(self, X, y, sample_weight)\u001b[0m\n\u001b[0;32m    845\u001b[0m             \u001b[0mdtype\u001b[0m\u001b[1;33m=\u001b[0m\u001b[0mFLOAT_DTYPES\u001b[0m\u001b[1;33m,\u001b[0m\u001b[1;33m\u001b[0m\u001b[1;33m\u001b[0m\u001b[0m\n\u001b[0;32m    846\u001b[0m             \u001b[0mforce_all_finite\u001b[0m\u001b[1;33m=\u001b[0m\u001b[1;34m\"allow-nan\"\u001b[0m\u001b[1;33m,\u001b[0m\u001b[1;33m\u001b[0m\u001b[1;33m\u001b[0m\u001b[0m\n\u001b[1;32m--> 847\u001b[1;33m             \u001b[0mreset\u001b[0m\u001b[1;33m=\u001b[0m\u001b[0mfirst_call\u001b[0m\u001b[1;33m,\u001b[0m\u001b[1;33m\u001b[0m\u001b[1;33m\u001b[0m\u001b[0m\n\u001b[0m\u001b[0;32m    848\u001b[0m         )\n\u001b[0;32m    849\u001b[0m         \u001b[0mn_features\u001b[0m \u001b[1;33m=\u001b[0m \u001b[0mX\u001b[0m\u001b[1;33m.\u001b[0m\u001b[0mshape\u001b[0m\u001b[1;33m[\u001b[0m\u001b[1;36m1\u001b[0m\u001b[1;33m]\u001b[0m\u001b[1;33m\u001b[0m\u001b[1;33m\u001b[0m\u001b[0m\n",
      "\u001b[1;32mc:\\Users\\matth\\anaconda3\\envs\\PythonData\\lib\\site-packages\\sklearn\\base.py\u001b[0m in \u001b[0;36m_validate_data\u001b[1;34m(self, X, y, reset, validate_separately, **check_params)\u001b[0m\n\u001b[0;32m    564\u001b[0m             \u001b[1;32mraise\u001b[0m \u001b[0mValueError\u001b[0m\u001b[1;33m(\u001b[0m\u001b[1;34m\"Validation should be done on X, y or both.\"\u001b[0m\u001b[1;33m)\u001b[0m\u001b[1;33m\u001b[0m\u001b[1;33m\u001b[0m\u001b[0m\n\u001b[0;32m    565\u001b[0m         \u001b[1;32melif\u001b[0m \u001b[1;32mnot\u001b[0m \u001b[0mno_val_X\u001b[0m \u001b[1;32mand\u001b[0m \u001b[0mno_val_y\u001b[0m\u001b[1;33m:\u001b[0m\u001b[1;33m\u001b[0m\u001b[1;33m\u001b[0m\u001b[0m\n\u001b[1;32m--> 566\u001b[1;33m             \u001b[0mX\u001b[0m \u001b[1;33m=\u001b[0m \u001b[0mcheck_array\u001b[0m\u001b[1;33m(\u001b[0m\u001b[0mX\u001b[0m\u001b[1;33m,\u001b[0m \u001b[1;33m**\u001b[0m\u001b[0mcheck_params\u001b[0m\u001b[1;33m)\u001b[0m\u001b[1;33m\u001b[0m\u001b[1;33m\u001b[0m\u001b[0m\n\u001b[0m\u001b[0;32m    567\u001b[0m             \u001b[0mout\u001b[0m \u001b[1;33m=\u001b[0m \u001b[0mX\u001b[0m\u001b[1;33m\u001b[0m\u001b[1;33m\u001b[0m\u001b[0m\n\u001b[0;32m    568\u001b[0m         \u001b[1;32melif\u001b[0m \u001b[0mno_val_X\u001b[0m \u001b[1;32mand\u001b[0m \u001b[1;32mnot\u001b[0m \u001b[0mno_val_y\u001b[0m\u001b[1;33m:\u001b[0m\u001b[1;33m\u001b[0m\u001b[1;33m\u001b[0m\u001b[0m\n",
      "\u001b[1;32mc:\\Users\\matth\\anaconda3\\envs\\PythonData\\lib\\site-packages\\sklearn\\utils\\validation.py\u001b[0m in \u001b[0;36mcheck_array\u001b[1;34m(array, accept_sparse, accept_large_sparse, dtype, order, copy, force_all_finite, ensure_2d, allow_nd, ensure_min_samples, ensure_min_features, estimator)\u001b[0m\n\u001b[0;32m    744\u001b[0m                     \u001b[0marray\u001b[0m \u001b[1;33m=\u001b[0m \u001b[0marray\u001b[0m\u001b[1;33m.\u001b[0m\u001b[0mastype\u001b[0m\u001b[1;33m(\u001b[0m\u001b[0mdtype\u001b[0m\u001b[1;33m,\u001b[0m \u001b[0mcasting\u001b[0m\u001b[1;33m=\u001b[0m\u001b[1;34m\"unsafe\"\u001b[0m\u001b[1;33m,\u001b[0m \u001b[0mcopy\u001b[0m\u001b[1;33m=\u001b[0m\u001b[1;32mFalse\u001b[0m\u001b[1;33m)\u001b[0m\u001b[1;33m\u001b[0m\u001b[1;33m\u001b[0m\u001b[0m\n\u001b[0;32m    745\u001b[0m                 \u001b[1;32melse\u001b[0m\u001b[1;33m:\u001b[0m\u001b[1;33m\u001b[0m\u001b[1;33m\u001b[0m\u001b[0m\n\u001b[1;32m--> 746\u001b[1;33m                     \u001b[0marray\u001b[0m \u001b[1;33m=\u001b[0m \u001b[0mnp\u001b[0m\u001b[1;33m.\u001b[0m\u001b[0masarray\u001b[0m\u001b[1;33m(\u001b[0m\u001b[0marray\u001b[0m\u001b[1;33m,\u001b[0m \u001b[0morder\u001b[0m\u001b[1;33m=\u001b[0m\u001b[0morder\u001b[0m\u001b[1;33m,\u001b[0m \u001b[0mdtype\u001b[0m\u001b[1;33m=\u001b[0m\u001b[0mdtype\u001b[0m\u001b[1;33m)\u001b[0m\u001b[1;33m\u001b[0m\u001b[1;33m\u001b[0m\u001b[0m\n\u001b[0m\u001b[0;32m    747\u001b[0m             \u001b[1;32mexcept\u001b[0m \u001b[0mComplexWarning\u001b[0m \u001b[1;32mas\u001b[0m \u001b[0mcomplex_warning\u001b[0m\u001b[1;33m:\u001b[0m\u001b[1;33m\u001b[0m\u001b[1;33m\u001b[0m\u001b[0m\n\u001b[0;32m    748\u001b[0m                 raise ValueError(\n",
      "\u001b[1;31mValueError\u001b[0m: could not convert string to float: 'Other'"
     ]
    }
   ],
   "source": [
    "# Create a StandardScaler instances\n",
    "scaler = StandardScaler()\n",
    "\n",
    "# Fit the StandardScaler\n",
    "X_scaler = scaler.fit(X_train)\n",
    "\n",
    "# Scale the data\n",
    "X_train_scaled = X_scaler.transform(X_train)\n",
    "X_test_scaled = X_scaler.transform(X_test)"
   ]
  },
  {
   "cell_type": "markdown",
   "metadata": {},
   "source": [
    "## Compile, Train and Evaluate the Model"
   ]
  },
  {
   "cell_type": "code",
   "execution_count": 43,
   "metadata": {},
   "outputs": [
    {
     "name": "stdout",
     "output_type": "stream",
     "text": [
      "Model: \"sequential_1\"\n",
      "_________________________________________________________________\n",
      " Layer (type)                Output Shape              Param #   \n",
      "=================================================================\n",
      " dense (Dense)               (None, 7)                 4501      \n",
      "                                                                 \n",
      " dense_1 (Dense)             (None, 14)                112       \n",
      "                                                                 \n",
      " dense_2 (Dense)             (None, 1)                 15        \n",
      "                                                                 \n",
      "=================================================================\n",
      "Total params: 4,628\n",
      "Trainable params: 4,628\n",
      "Non-trainable params: 0\n",
      "_________________________________________________________________\n"
     ]
    }
   ],
   "source": [
    "# Define the model - deep neural net, i.e., the number of input features and hidden nodes for each layer.\n",
    "number_input_features = len( X_train_scaled[0])\n",
    "hidden_nodes_layer1=7\n",
    "hidden_nodes_layer2=14\n",
    "hidden_nodes_layer3=21\n",
    "nn = tf.keras.models.Sequential()\n",
    "\n",
    "nn = tf.keras.models.Sequential()\n",
    "\n",
    "# First hidden layer\n",
    "nn.add(tf.keras.layers.Dense(units=hidden_nodes_layer1, input_dim=number_input_features, activation='relu'))\n",
    "\n",
    "# Second hidden layer\n",
    "nn.add(tf.keras.layers.Dense(units=hidden_nodes_layer2, activation='relu'))\n",
    "\n",
    "# Output layer\n",
    "nn.add(tf.keras.layers.Dense(units=1, activation='sigmoid'))\n",
    "\n",
    "# Check the structure of the model\n",
    "nn.summary()"
   ]
  },
  {
   "cell_type": "code",
   "execution_count": 45,
   "metadata": {},
   "outputs": [],
   "source": [
    "# Compile the model\n",
    "nn.compile(loss = 'binary_crossentropy', optimizer = 'adam', metrics=['accuracy'])"
   ]
  },
  {
   "cell_type": "code",
   "execution_count": 46,
   "metadata": {},
   "outputs": [
    {
     "name": "stdout",
     "output_type": "stream",
     "text": [
      "Epoch 1/100\n",
      "20890/20890 [==============================] - 102s 5ms/step - loss: nan - accuracy: 0.0215 - val_loss: nan - val_accuracy: 0.0211\n",
      "Epoch 2/100\n",
      "20890/20890 [==============================] - 71s 3ms/step - loss: nan - accuracy: 0.0215 - val_loss: nan - val_accuracy: 0.0211\n",
      "Epoch 3/100\n",
      "20890/20890 [==============================] - 73s 3ms/step - loss: nan - accuracy: 0.0215 - val_loss: nan - val_accuracy: 0.0211\n",
      "Epoch 4/100\n",
      "20890/20890 [==============================] - 80s 4ms/step - loss: nan - accuracy: 0.0215 - val_loss: nan - val_accuracy: 0.0211\n",
      "Epoch 5/100\n",
      "20890/20890 [==============================] - 79s 4ms/step - loss: nan - accuracy: 0.0215 - val_loss: nan - val_accuracy: 0.0211\n",
      "Epoch 6/100\n",
      "20890/20890 [==============================] - 69s 3ms/step - loss: nan - accuracy: 0.0215 - val_loss: nan - val_accuracy: 0.0211\n",
      "Epoch 7/100\n",
      "20890/20890 [==============================] - 91s 4ms/step - loss: nan - accuracy: 0.0215 - val_loss: nan - val_accuracy: 0.0211\n",
      "Epoch 8/100\n",
      "20890/20890 [==============================] - 69s 3ms/step - loss: nan - accuracy: 0.0215 - val_loss: nan - val_accuracy: 0.0211\n",
      "Epoch 9/100\n",
      "20890/20890 [==============================] - 68s 3ms/step - loss: nan - accuracy: 0.0215 - val_loss: nan - val_accuracy: 0.0211\n",
      "Epoch 10/100\n",
      "20890/20890 [==============================] - 89s 4ms/step - loss: nan - accuracy: 0.0215 - val_loss: nan - val_accuracy: 0.0211\n",
      "Epoch 11/100\n",
      "20890/20890 [==============================] - 69s 3ms/step - loss: nan - accuracy: 0.0215 - val_loss: nan - val_accuracy: 0.0211\n",
      "Epoch 12/100\n",
      "20890/20890 [==============================] - 51s 2ms/step - loss: nan - accuracy: 0.0215 - val_loss: nan - val_accuracy: 0.0211\n",
      "Epoch 13/100\n",
      "20890/20890 [==============================] - 45s 2ms/step - loss: nan - accuracy: 0.0215 - val_loss: nan - val_accuracy: 0.0211\n",
      "Epoch 14/100\n",
      "20890/20890 [==============================] - 43s 2ms/step - loss: nan - accuracy: 0.0215 - val_loss: nan - val_accuracy: 0.0211\n",
      "Epoch 15/100\n",
      "20890/20890 [==============================] - 39s 2ms/step - loss: nan - accuracy: 0.0215 - val_loss: nan - val_accuracy: 0.0211\n",
      "Epoch 16/100\n",
      "20890/20890 [==============================] - 39s 2ms/step - loss: nan - accuracy: 0.0215 - val_loss: nan - val_accuracy: 0.0211\n",
      "Epoch 17/100\n",
      "20890/20890 [==============================] - 41s 2ms/step - loss: nan - accuracy: 0.0215 - val_loss: nan - val_accuracy: 0.0211\n",
      "Epoch 18/100\n",
      "20890/20890 [==============================] - 41s 2ms/step - loss: nan - accuracy: 0.0215 - val_loss: nan - val_accuracy: 0.0211\n",
      "Epoch 19/100\n",
      "20890/20890 [==============================] - 37s 2ms/step - loss: nan - accuracy: 0.0215 - val_loss: nan - val_accuracy: 0.0211\n",
      "Epoch 20/100\n",
      "20890/20890 [==============================] - 35s 2ms/step - loss: nan - accuracy: 0.0215 - val_loss: nan - val_accuracy: 0.0211\n",
      "Epoch 21/100\n",
      "20890/20890 [==============================] - 32s 2ms/step - loss: nan - accuracy: 0.0215 - val_loss: nan - val_accuracy: 0.0211\n",
      "Epoch 22/100\n",
      "20890/20890 [==============================] - 31s 2ms/step - loss: nan - accuracy: 0.0215 - val_loss: nan - val_accuracy: 0.0211\n",
      "Epoch 23/100\n",
      "20890/20890 [==============================] - 32s 2ms/step - loss: nan - accuracy: 0.0215 - val_loss: nan - val_accuracy: 0.0211\n",
      "Epoch 24/100\n",
      "20890/20890 [==============================] - 32s 2ms/step - loss: nan - accuracy: 0.0215 - val_loss: nan - val_accuracy: 0.0211\n",
      "Epoch 25/100\n",
      "20890/20890 [==============================] - 29s 1ms/step - loss: nan - accuracy: 0.0215 - val_loss: nan - val_accuracy: 0.0211\n",
      "Epoch 26/100\n",
      "20890/20890 [==============================] - 37s 2ms/step - loss: nan - accuracy: 0.0215 - val_loss: nan - val_accuracy: 0.0211\n",
      "Epoch 27/100\n",
      "20890/20890 [==============================] - 34s 2ms/step - loss: nan - accuracy: 0.0215 - val_loss: nan - val_accuracy: 0.0211\n",
      "Epoch 28/100\n",
      "20890/20890 [==============================] - 35s 2ms/step - loss: nan - accuracy: 0.0215 - val_loss: nan - val_accuracy: 0.0211\n",
      "Epoch 29/100\n",
      "20890/20890 [==============================] - 35s 2ms/step - loss: nan - accuracy: 0.0215 - val_loss: nan - val_accuracy: 0.0211\n",
      "Epoch 30/100\n",
      "20890/20890 [==============================] - 35s 2ms/step - loss: nan - accuracy: 0.0215 - val_loss: nan - val_accuracy: 0.0211\n",
      "Epoch 31/100\n",
      "20890/20890 [==============================] - 35s 2ms/step - loss: nan - accuracy: 0.0215 - val_loss: nan - val_accuracy: 0.0211\n",
      "Epoch 32/100\n",
      "20890/20890 [==============================] - 35s 2ms/step - loss: nan - accuracy: 0.0215 - val_loss: nan - val_accuracy: 0.0211\n",
      "Epoch 33/100\n",
      "20890/20890 [==============================] - 35s 2ms/step - loss: nan - accuracy: 0.0215 - val_loss: nan - val_accuracy: 0.0211\n",
      "Epoch 34/100\n",
      "20890/20890 [==============================] - 44s 2ms/step - loss: nan - accuracy: 0.0215 - val_loss: nan - val_accuracy: 0.0211\n",
      "Epoch 35/100\n",
      "20890/20890 [==============================] - 55s 3ms/step - loss: nan - accuracy: 0.0215 - val_loss: nan - val_accuracy: 0.0211\n",
      "Epoch 36/100\n",
      "20890/20890 [==============================] - 48s 2ms/step - loss: nan - accuracy: 0.0215 - val_loss: nan - val_accuracy: 0.0211\n",
      "Epoch 37/100\n",
      "20890/20890 [==============================] - 63s 3ms/step - loss: nan - accuracy: 0.0215 - val_loss: nan - val_accuracy: 0.0211\n",
      "Epoch 38/100\n",
      "20890/20890 [==============================] - 41s 2ms/step - loss: nan - accuracy: 0.0215 - val_loss: nan - val_accuracy: 0.0211\n",
      "Epoch 39/100\n",
      "20890/20890 [==============================] - 40s 2ms/step - loss: nan - accuracy: 0.0215 - val_loss: nan - val_accuracy: 0.0211\n",
      "Epoch 40/100\n",
      "20890/20890 [==============================] - 41s 2ms/step - loss: nan - accuracy: 0.0215 - val_loss: nan - val_accuracy: 0.0211\n",
      "Epoch 41/100\n",
      "20890/20890 [==============================] - 40s 2ms/step - loss: nan - accuracy: 0.0215 - val_loss: nan - val_accuracy: 0.0211\n",
      "Epoch 42/100\n",
      "20890/20890 [==============================] - 42s 2ms/step - loss: nan - accuracy: 0.0215 - val_loss: nan - val_accuracy: 0.0211\n",
      "Epoch 43/100\n",
      "20890/20890 [==============================] - 41s 2ms/step - loss: nan - accuracy: 0.0215 - val_loss: nan - val_accuracy: 0.0211\n",
      "Epoch 44/100\n",
      "20890/20890 [==============================] - 42s 2ms/step - loss: nan - accuracy: 0.0215 - val_loss: nan - val_accuracy: 0.0211\n",
      "Epoch 45/100\n",
      "20890/20890 [==============================] - 40s 2ms/step - loss: nan - accuracy: 0.0215 - val_loss: nan - val_accuracy: 0.0211\n",
      "Epoch 46/100\n",
      "20890/20890 [==============================] - 40s 2ms/step - loss: nan - accuracy: 0.0215 - val_loss: nan - val_accuracy: 0.0211\n",
      "Epoch 47/100\n",
      "20890/20890 [==============================] - 40s 2ms/step - loss: nan - accuracy: 0.0215 - val_loss: nan - val_accuracy: 0.0211\n",
      "Epoch 48/100\n",
      "20890/20890 [==============================] - 40s 2ms/step - loss: nan - accuracy: 0.0215 - val_loss: nan - val_accuracy: 0.0211\n",
      "Epoch 49/100\n",
      "20890/20890 [==============================] - 40s 2ms/step - loss: nan - accuracy: 0.0215 - val_loss: nan - val_accuracy: 0.0211\n",
      "Epoch 50/100\n",
      "20890/20890 [==============================] - 41s 2ms/step - loss: nan - accuracy: 0.0215 - val_loss: nan - val_accuracy: 0.0211\n",
      "Epoch 51/100\n",
      "20890/20890 [==============================] - 61s 3ms/step - loss: nan - accuracy: 0.0215 - val_loss: nan - val_accuracy: 0.0211\n",
      "Epoch 52/100\n",
      "20890/20890 [==============================] - 41s 2ms/step - loss: nan - accuracy: 0.0215 - val_loss: nan - val_accuracy: 0.0211\n",
      "Epoch 53/100\n",
      "20890/20890 [==============================] - 40s 2ms/step - loss: nan - accuracy: 0.0215 - val_loss: nan - val_accuracy: 0.0211\n",
      "Epoch 54/100\n",
      "20890/20890 [==============================] - 41s 2ms/step - loss: nan - accuracy: 0.0215 - val_loss: nan - val_accuracy: 0.0211\n",
      "Epoch 55/100\n",
      "20890/20890 [==============================] - 41s 2ms/step - loss: nan - accuracy: 0.0215 - val_loss: nan - val_accuracy: 0.0211\n",
      "Epoch 56/100\n",
      "20890/20890 [==============================] - 40s 2ms/step - loss: nan - accuracy: 0.0215 - val_loss: nan - val_accuracy: 0.0211\n",
      "Epoch 57/100\n",
      "20890/20890 [==============================] - 41s 2ms/step - loss: nan - accuracy: 0.0215 - val_loss: nan - val_accuracy: 0.0211\n",
      "Epoch 58/100\n",
      "20890/20890 [==============================] - 42s 2ms/step - loss: nan - accuracy: 0.0215 - val_loss: nan - val_accuracy: 0.0211\n",
      "Epoch 59/100\n",
      "20890/20890 [==============================] - 41s 2ms/step - loss: nan - accuracy: 0.0215 - val_loss: nan - val_accuracy: 0.0211\n",
      "Epoch 60/100\n",
      "20890/20890 [==============================] - 41s 2ms/step - loss: nan - accuracy: 0.0215 - val_loss: nan - val_accuracy: 0.0211\n",
      "Epoch 61/100\n",
      "20890/20890 [==============================] - 40s 2ms/step - loss: nan - accuracy: 0.0215 - val_loss: nan - val_accuracy: 0.0211\n",
      "Epoch 62/100\n",
      "20890/20890 [==============================] - 41s 2ms/step - loss: nan - accuracy: 0.0215 - val_loss: nan - val_accuracy: 0.0211\n",
      "Epoch 63/100\n",
      "20890/20890 [==============================] - 40s 2ms/step - loss: nan - accuracy: 0.0215 - val_loss: nan - val_accuracy: 0.0211\n",
      "Epoch 64/100\n",
      "20890/20890 [==============================] - 41s 2ms/step - loss: nan - accuracy: 0.0215 - val_loss: nan - val_accuracy: 0.0211\n",
      "Epoch 65/100\n",
      "20890/20890 [==============================] - 40s 2ms/step - loss: nan - accuracy: 0.0215 - val_loss: nan - val_accuracy: 0.0211\n",
      "Epoch 66/100\n",
      "20890/20890 [==============================] - 41s 2ms/step - loss: nan - accuracy: 0.0215 - val_loss: nan - val_accuracy: 0.0211\n",
      "Epoch 67/100\n",
      "20890/20890 [==============================] - 41s 2ms/step - loss: nan - accuracy: 0.0215 - val_loss: nan - val_accuracy: 0.0211\n",
      "Epoch 68/100\n",
      "20890/20890 [==============================] - 41s 2ms/step - loss: nan - accuracy: 0.0215 - val_loss: nan - val_accuracy: 0.0211\n",
      "Epoch 69/100\n",
      "20890/20890 [==============================] - 41s 2ms/step - loss: nan - accuracy: 0.0215 - val_loss: nan - val_accuracy: 0.0211\n",
      "Epoch 70/100\n",
      "20890/20890 [==============================] - 41s 2ms/step - loss: nan - accuracy: 0.0215 - val_loss: nan - val_accuracy: 0.0211\n",
      "Epoch 71/100\n",
      "20890/20890 [==============================] - 41s 2ms/step - loss: nan - accuracy: 0.0215 - val_loss: nan - val_accuracy: 0.0211\n",
      "Epoch 72/100\n",
      "20890/20890 [==============================] - 41s 2ms/step - loss: nan - accuracy: 0.0215 - val_loss: nan - val_accuracy: 0.0211\n",
      "Epoch 73/100\n",
      "20890/20890 [==============================] - 41s 2ms/step - loss: nan - accuracy: 0.0215 - val_loss: nan - val_accuracy: 0.0211\n",
      "Epoch 74/100\n",
      "20890/20890 [==============================] - 41s 2ms/step - loss: nan - accuracy: 0.0215 - val_loss: nan - val_accuracy: 0.0211\n",
      "Epoch 75/100\n",
      "20890/20890 [==============================] - 41s 2ms/step - loss: nan - accuracy: 0.0215 - val_loss: nan - val_accuracy: 0.0211\n",
      "Epoch 76/100\n",
      "20890/20890 [==============================] - 49s 2ms/step - loss: nan - accuracy: 0.0215 - val_loss: nan - val_accuracy: 0.0211\n",
      "Epoch 77/100\n",
      "20890/20890 [==============================] - 50s 2ms/step - loss: nan - accuracy: 0.0215 - val_loss: nan - val_accuracy: 0.0211\n",
      "Epoch 78/100\n",
      "20890/20890 [==============================] - 43s 2ms/step - loss: nan - accuracy: 0.0215 - val_loss: nan - val_accuracy: 0.0211\n",
      "Epoch 79/100\n",
      "20890/20890 [==============================] - 42s 2ms/step - loss: nan - accuracy: 0.0215 - val_loss: nan - val_accuracy: 0.0211\n",
      "Epoch 80/100\n",
      "20890/20890 [==============================] - 43s 2ms/step - loss: nan - accuracy: 0.0215 - val_loss: nan - val_accuracy: 0.0211\n",
      "Epoch 81/100\n",
      "20890/20890 [==============================] - 43s 2ms/step - loss: nan - accuracy: 0.0215 - val_loss: nan - val_accuracy: 0.0211\n",
      "Epoch 82/100\n",
      "20890/20890 [==============================] - 43s 2ms/step - loss: nan - accuracy: 0.0215 - val_loss: nan - val_accuracy: 0.0211\n",
      "Epoch 83/100\n",
      "20890/20890 [==============================] - 42s 2ms/step - loss: nan - accuracy: 0.0215 - val_loss: nan - val_accuracy: 0.0211\n",
      "Epoch 84/100\n",
      "20890/20890 [==============================] - 76s 4ms/step - loss: nan - accuracy: 0.0215 - val_loss: nan - val_accuracy: 0.0211\n",
      "Epoch 85/100\n",
      "20890/20890 [==============================] - 69s 3ms/step - loss: nan - accuracy: 0.0215 - val_loss: nan - val_accuracy: 0.0211\n",
      "Epoch 86/100\n",
      "20890/20890 [==============================] - 68s 3ms/step - loss: nan - accuracy: 0.0215 - val_loss: nan - val_accuracy: 0.0211\n",
      "Epoch 87/100\n",
      "20890/20890 [==============================] - 43s 2ms/step - loss: nan - accuracy: 0.0215 - val_loss: nan - val_accuracy: 0.0211\n",
      "Epoch 88/100\n",
      "20890/20890 [==============================] - 42s 2ms/step - loss: nan - accuracy: 0.0215 - val_loss: nan - val_accuracy: 0.0211\n",
      "Epoch 89/100\n",
      "20890/20890 [==============================] - 42s 2ms/step - loss: nan - accuracy: 0.0215 - val_loss: nan - val_accuracy: 0.0211\n",
      "Epoch 90/100\n",
      "20890/20890 [==============================] - 42s 2ms/step - loss: nan - accuracy: 0.0215 - val_loss: nan - val_accuracy: 0.0211\n",
      "Epoch 91/100\n",
      "20890/20890 [==============================] - 42s 2ms/step - loss: nan - accuracy: 0.0215 - val_loss: nan - val_accuracy: 0.0211\n",
      "Epoch 92/100\n",
      "20890/20890 [==============================] - 42s 2ms/step - loss: nan - accuracy: 0.0215 - val_loss: nan - val_accuracy: 0.0211\n",
      "Epoch 93/100\n",
      "20890/20890 [==============================] - 43s 2ms/step - loss: nan - accuracy: 0.0215 - val_loss: nan - val_accuracy: 0.0211\n",
      "Epoch 94/100\n",
      "20890/20890 [==============================] - 53s 3ms/step - loss: nan - accuracy: 0.0215 - val_loss: nan - val_accuracy: 0.0211\n",
      "Epoch 95/100\n",
      "20890/20890 [==============================] - 63s 3ms/step - loss: nan - accuracy: 0.0215 - val_loss: nan - val_accuracy: 0.0211\n",
      "Epoch 96/100\n",
      "20890/20890 [==============================] - 43s 2ms/step - loss: nan - accuracy: 0.0215 - val_loss: nan - val_accuracy: 0.0211\n",
      "Epoch 97/100\n",
      "20890/20890 [==============================] - 55s 3ms/step - loss: nan - accuracy: 0.0215 - val_loss: nan - val_accuracy: 0.0211\n",
      "Epoch 98/100\n",
      "20890/20890 [==============================] - 43s 2ms/step - loss: nan - accuracy: 0.0215 - val_loss: nan - val_accuracy: 0.0211\n",
      "Epoch 99/100\n",
      "20890/20890 [==============================] - 44s 2ms/step - loss: nan - accuracy: 0.0215 - val_loss: nan - val_accuracy: 0.0211\n",
      "Epoch 100/100\n",
      "20890/20890 [==============================] - 42s 2ms/step - loss: nan - accuracy: 0.0215 - val_loss: nan - val_accuracy: 0.0211\n"
     ]
    }
   ],
   "source": [
    "# Train the model\n",
    "fit_model = nn.fit(X_train_scaled,y_train,validation_split=0.15, epochs=100)"
   ]
  },
  {
   "cell_type": "code",
   "execution_count": 47,
   "metadata": {},
   "outputs": [
    {
     "name": "stdout",
     "output_type": "stream",
     "text": [
      "8192/8192 - 11s - loss: nan - accuracy: 0.0213 - 11s/epoch - 1ms/step\n",
      "Loss: nan, Accuracy: 0.021282196044921875\n"
     ]
    }
   ],
   "source": [
    "# Evaluate the model using the test data\n",
    "model_loss, model_accuracy = nn.evaluate(X_test_scaled,y_test,verbose=2)\n",
    "print(f\"Loss: {model_loss}, Accuracy: {model_accuracy}\")"
   ]
  },
  {
   "attachments": {},
   "cell_type": "markdown",
   "metadata": {},
   "source": [
    "# Start Logistic Regression"
   ]
  },
  {
   "cell_type": "code",
   "execution_count": 105,
   "metadata": {},
   "outputs": [],
   "source": [
    "# Start Logistic Regression\n",
    "%matplotlib inline\n",
    "from matplotlib import pyplot as plt\n",
    "from sklearn.datasets import make_classification\n",
    "import numpy as np\n",
    "import pandas as pd\n",
    "from sklearn.ensemble import RandomForestClassifier\n",
    "from sklearn.linear_model import LogisticRegression\n",
    "from sklearn.model_selection import train_test_split\n",
    "from sklearn.preprocessing import StandardScaler"
   ]
  },
  {
   "cell_type": "code",
   "execution_count": 119,
   "metadata": {},
   "outputs": [
    {
     "data": {
      "text/html": [
       "<div>\n",
       "<style scoped>\n",
       "    .dataframe tbody tr th:only-of-type {\n",
       "        vertical-align: middle;\n",
       "    }\n",
       "\n",
       "    .dataframe tbody tr th {\n",
       "        vertical-align: top;\n",
       "    }\n",
       "\n",
       "    .dataframe thead th {\n",
       "        text-align: right;\n",
       "    }\n",
       "</style>\n",
       "<table border=\"1\" class=\"dataframe\">\n",
       "  <thead>\n",
       "    <tr style=\"text-align: right;\">\n",
       "      <th></th>\n",
       "      <th>MONTH</th>\n",
       "      <th>DAY</th>\n",
       "      <th>DAY_OF_WEEK</th>\n",
       "      <th>AIRLINE</th>\n",
       "      <th>ORIGIN_AIRPORT</th>\n",
       "      <th>DESTINATION_AIRPORT</th>\n",
       "      <th>SCHEDULED_DEPARTURE</th>\n",
       "      <th>DEPARTURE_TIME</th>\n",
       "      <th>DEPARTURE_DELAY</th>\n",
       "      <th>SCHEDULED_TIME</th>\n",
       "      <th>DISTANCE</th>\n",
       "      <th>SCHEDULED_ARRIVAL</th>\n",
       "      <th>ARRIVAL_TIME</th>\n",
       "      <th>ARRIVAL_DELAY</th>\n",
       "      <th>DIVERTED</th>\n",
       "      <th>Y_N</th>\n",
       "    </tr>\n",
       "  </thead>\n",
       "  <tbody>\n",
       "    <tr>\n",
       "      <th>0</th>\n",
       "      <td>1</td>\n",
       "      <td>1</td>\n",
       "      <td>4</td>\n",
       "      <td>AS</td>\n",
       "      <td>ANC</td>\n",
       "      <td>SEA</td>\n",
       "      <td>5</td>\n",
       "      <td>2354.0</td>\n",
       "      <td>-11.0</td>\n",
       "      <td>205.0</td>\n",
       "      <td>1448</td>\n",
       "      <td>430</td>\n",
       "      <td>408.0</td>\n",
       "      <td>-22.0</td>\n",
       "      <td>0</td>\n",
       "      <td>No</td>\n",
       "    </tr>\n",
       "    <tr>\n",
       "      <th>1</th>\n",
       "      <td>1</td>\n",
       "      <td>1</td>\n",
       "      <td>4</td>\n",
       "      <td>AA</td>\n",
       "      <td>LAX</td>\n",
       "      <td>PBI</td>\n",
       "      <td>10</td>\n",
       "      <td>2.0</td>\n",
       "      <td>-8.0</td>\n",
       "      <td>280.0</td>\n",
       "      <td>2330</td>\n",
       "      <td>750</td>\n",
       "      <td>741.0</td>\n",
       "      <td>-9.0</td>\n",
       "      <td>0</td>\n",
       "      <td>No</td>\n",
       "    </tr>\n",
       "    <tr>\n",
       "      <th>2</th>\n",
       "      <td>1</td>\n",
       "      <td>1</td>\n",
       "      <td>4</td>\n",
       "      <td>US</td>\n",
       "      <td>SFO</td>\n",
       "      <td>CLT</td>\n",
       "      <td>20</td>\n",
       "      <td>18.0</td>\n",
       "      <td>-2.0</td>\n",
       "      <td>286.0</td>\n",
       "      <td>2296</td>\n",
       "      <td>806</td>\n",
       "      <td>811.0</td>\n",
       "      <td>5.0</td>\n",
       "      <td>0</td>\n",
       "      <td>No</td>\n",
       "    </tr>\n",
       "    <tr>\n",
       "      <th>3</th>\n",
       "      <td>1</td>\n",
       "      <td>1</td>\n",
       "      <td>4</td>\n",
       "      <td>AA</td>\n",
       "      <td>LAX</td>\n",
       "      <td>MIA</td>\n",
       "      <td>20</td>\n",
       "      <td>15.0</td>\n",
       "      <td>-5.0</td>\n",
       "      <td>285.0</td>\n",
       "      <td>2342</td>\n",
       "      <td>805</td>\n",
       "      <td>756.0</td>\n",
       "      <td>-9.0</td>\n",
       "      <td>0</td>\n",
       "      <td>No</td>\n",
       "    </tr>\n",
       "    <tr>\n",
       "      <th>4</th>\n",
       "      <td>1</td>\n",
       "      <td>1</td>\n",
       "      <td>4</td>\n",
       "      <td>AS</td>\n",
       "      <td>SEA</td>\n",
       "      <td>ANC</td>\n",
       "      <td>25</td>\n",
       "      <td>24.0</td>\n",
       "      <td>-1.0</td>\n",
       "      <td>235.0</td>\n",
       "      <td>1448</td>\n",
       "      <td>320</td>\n",
       "      <td>259.0</td>\n",
       "      <td>-21.0</td>\n",
       "      <td>0</td>\n",
       "      <td>No</td>\n",
       "    </tr>\n",
       "    <tr>\n",
       "      <th>...</th>\n",
       "      <td>...</td>\n",
       "      <td>...</td>\n",
       "      <td>...</td>\n",
       "      <td>...</td>\n",
       "      <td>...</td>\n",
       "      <td>...</td>\n",
       "      <td>...</td>\n",
       "      <td>...</td>\n",
       "      <td>...</td>\n",
       "      <td>...</td>\n",
       "      <td>...</td>\n",
       "      <td>...</td>\n",
       "      <td>...</td>\n",
       "      <td>...</td>\n",
       "      <td>...</td>\n",
       "      <td>...</td>\n",
       "    </tr>\n",
       "    <tr>\n",
       "      <th>1048569</th>\n",
       "      <td>3</td>\n",
       "      <td>10</td>\n",
       "      <td>2</td>\n",
       "      <td>DL</td>\n",
       "      <td>PHX</td>\n",
       "      <td>ATL</td>\n",
       "      <td>1013</td>\n",
       "      <td>1045.0</td>\n",
       "      <td>32.0</td>\n",
       "      <td>217.0</td>\n",
       "      <td>1587</td>\n",
       "      <td>1650</td>\n",
       "      <td>1709.0</td>\n",
       "      <td>19.0</td>\n",
       "      <td>0</td>\n",
       "      <td>Yes</td>\n",
       "    </tr>\n",
       "    <tr>\n",
       "      <th>1048570</th>\n",
       "      <td>3</td>\n",
       "      <td>10</td>\n",
       "      <td>2</td>\n",
       "      <td>EV</td>\n",
       "      <td>RDU</td>\n",
       "      <td>EWR</td>\n",
       "      <td>1013</td>\n",
       "      <td>1005.0</td>\n",
       "      <td>-8.0</td>\n",
       "      <td>96.0</td>\n",
       "      <td>416</td>\n",
       "      <td>1149</td>\n",
       "      <td>1133.0</td>\n",
       "      <td>-16.0</td>\n",
       "      <td>0</td>\n",
       "      <td>No</td>\n",
       "    </tr>\n",
       "    <tr>\n",
       "      <th>1048571</th>\n",
       "      <td>3</td>\n",
       "      <td>10</td>\n",
       "      <td>2</td>\n",
       "      <td>UA</td>\n",
       "      <td>LGA</td>\n",
       "      <td>IAH</td>\n",
       "      <td>1013</td>\n",
       "      <td>1005.0</td>\n",
       "      <td>-8.0</td>\n",
       "      <td>264.0</td>\n",
       "      <td>1416</td>\n",
       "      <td>1337</td>\n",
       "      <td>1335.0</td>\n",
       "      <td>-2.0</td>\n",
       "      <td>0</td>\n",
       "      <td>No</td>\n",
       "    </tr>\n",
       "    <tr>\n",
       "      <th>1048572</th>\n",
       "      <td>3</td>\n",
       "      <td>10</td>\n",
       "      <td>2</td>\n",
       "      <td>UA</td>\n",
       "      <td>SAN</td>\n",
       "      <td>ORD</td>\n",
       "      <td>1013</td>\n",
       "      <td>1010.0</td>\n",
       "      <td>-3.0</td>\n",
       "      <td>251.0</td>\n",
       "      <td>1723</td>\n",
       "      <td>1624</td>\n",
       "      <td>1627.0</td>\n",
       "      <td>3.0</td>\n",
       "      <td>0</td>\n",
       "      <td>No</td>\n",
       "    </tr>\n",
       "    <tr>\n",
       "      <th>1048573</th>\n",
       "      <td>3</td>\n",
       "      <td>10</td>\n",
       "      <td>2</td>\n",
       "      <td>EV</td>\n",
       "      <td>MSY</td>\n",
       "      <td>ORD</td>\n",
       "      <td>1013</td>\n",
       "      <td>1003.0</td>\n",
       "      <td>-10.0</td>\n",
       "      <td>149.0</td>\n",
       "      <td>837</td>\n",
       "      <td>1242</td>\n",
       "      <td>1229.0</td>\n",
       "      <td>-13.0</td>\n",
       "      <td>0</td>\n",
       "      <td>No</td>\n",
       "    </tr>\n",
       "  </tbody>\n",
       "</table>\n",
       "<p>1005504 rows × 16 columns</p>\n",
       "</div>"
      ],
      "text/plain": [
       "         MONTH  DAY  DAY_OF_WEEK AIRLINE ORIGIN_AIRPORT DESTINATION_AIRPORT  \\\n",
       "0            1    1            4      AS            ANC                 SEA   \n",
       "1            1    1            4      AA            LAX                 PBI   \n",
       "2            1    1            4      US            SFO                 CLT   \n",
       "3            1    1            4      AA            LAX                 MIA   \n",
       "4            1    1            4      AS            SEA                 ANC   \n",
       "...        ...  ...          ...     ...            ...                 ...   \n",
       "1048569      3   10            2      DL            PHX                 ATL   \n",
       "1048570      3   10            2      EV            RDU                 EWR   \n",
       "1048571      3   10            2      UA            LGA                 IAH   \n",
       "1048572      3   10            2      UA            SAN                 ORD   \n",
       "1048573      3   10            2      EV            MSY                 ORD   \n",
       "\n",
       "         SCHEDULED_DEPARTURE  DEPARTURE_TIME  DEPARTURE_DELAY  SCHEDULED_TIME  \\\n",
       "0                          5          2354.0            -11.0           205.0   \n",
       "1                         10             2.0             -8.0           280.0   \n",
       "2                         20            18.0             -2.0           286.0   \n",
       "3                         20            15.0             -5.0           285.0   \n",
       "4                         25            24.0             -1.0           235.0   \n",
       "...                      ...             ...              ...             ...   \n",
       "1048569                 1013          1045.0             32.0           217.0   \n",
       "1048570                 1013          1005.0             -8.0            96.0   \n",
       "1048571                 1013          1005.0             -8.0           264.0   \n",
       "1048572                 1013          1010.0             -3.0           251.0   \n",
       "1048573                 1013          1003.0            -10.0           149.0   \n",
       "\n",
       "         DISTANCE  SCHEDULED_ARRIVAL  ARRIVAL_TIME  ARRIVAL_DELAY  DIVERTED  \\\n",
       "0            1448                430         408.0          -22.0         0   \n",
       "1            2330                750         741.0           -9.0         0   \n",
       "2            2296                806         811.0            5.0         0   \n",
       "3            2342                805         756.0           -9.0         0   \n",
       "4            1448                320         259.0          -21.0         0   \n",
       "...           ...                ...           ...            ...       ...   \n",
       "1048569      1587               1650        1709.0           19.0         0   \n",
       "1048570       416               1149        1133.0          -16.0         0   \n",
       "1048571      1416               1337        1335.0           -2.0         0   \n",
       "1048572      1723               1624        1627.0            3.0         0   \n",
       "1048573       837               1242        1229.0          -13.0         0   \n",
       "\n",
       "         Y_N  \n",
       "0         No  \n",
       "1         No  \n",
       "2         No  \n",
       "3         No  \n",
       "4         No  \n",
       "...      ...  \n",
       "1048569  Yes  \n",
       "1048570   No  \n",
       "1048571   No  \n",
       "1048572   No  \n",
       "1048573   No  \n",
       "\n",
       "[1005504 rows x 16 columns]"
      ]
     },
     "execution_count": 119,
     "metadata": {},
     "output_type": "execute_result"
    }
   ],
   "source": [
    "flights_df = pd.read_csv(\"csvs/flights.csv\")\n",
    "flights = flights_df\n",
    "\n",
    "flights.dropna()"
   ]
  },
  {
   "cell_type": "code",
   "execution_count": 120,
   "metadata": {},
   "outputs": [
    {
     "data": {
      "text/plain": [
       "array(['No', 'No', 'No', ..., 'No', 'No', 'No'], dtype=object)"
      ]
     },
     "execution_count": 120,
     "metadata": {},
     "output_type": "execute_result"
    }
   ],
   "source": [
    "y = flights['Y_N'].values\n",
    "y"
   ]
  },
  {
   "cell_type": "code",
   "execution_count": 121,
   "metadata": {},
   "outputs": [
    {
     "data": {
      "text/plain": [
       "array([[1, 1, 4, ..., 408.0, -22.0, 0],\n",
       "       [1, 1, 4, ..., 741.0, -9.0, 0],\n",
       "       [1, 1, 4, ..., 811.0, 5.0, 0],\n",
       "       ...,\n",
       "       [3, 10, 2, ..., 1627.0, 3.0, 0],\n",
       "       [3, 10, 2, ..., 1229.0, -13.0, 0],\n",
       "       [3, 10, 2, ..., nan, nan, 0]], dtype=object)"
      ]
     },
     "execution_count": 121,
     "metadata": {},
     "output_type": "execute_result"
    }
   ],
   "source": [
    "X = flights.drop('Y_N', axis=1).values\n",
    "X"
   ]
  },
  {
   "cell_type": "code",
   "execution_count": 122,
   "metadata": {},
   "outputs": [],
   "source": [
    "# Split the preprocessed data into a training and testing dataset\n",
    "X_train, X_test, y_train, y_test = train_test_split(X,y,random_state = 42)"
   ]
  },
  {
   "cell_type": "code",
   "execution_count": 123,
   "metadata": {},
   "outputs": [
    {
     "ename": "ValueError",
     "evalue": "could not convert string to float: 'DL'",
     "output_type": "error",
     "traceback": [
      "\u001b[1;31m---------------------------------------------------------------------------\u001b[0m",
      "\u001b[1;31mValueError\u001b[0m                                Traceback (most recent call last)",
      "\u001b[1;32m~\\AppData\\Local\\Temp\\ipykernel_96476\\2127983596.py\u001b[0m in \u001b[0;36m<module>\u001b[1;34m\u001b[0m\n\u001b[0;32m      3\u001b[0m \u001b[1;33m\u001b[0m\u001b[0m\n\u001b[0;32m      4\u001b[0m \u001b[1;31m# Fit the StandardScaler\u001b[0m\u001b[1;33m\u001b[0m\u001b[1;33m\u001b[0m\u001b[1;33m\u001b[0m\u001b[0m\n\u001b[1;32m----> 5\u001b[1;33m \u001b[0mX_scaler\u001b[0m \u001b[1;33m=\u001b[0m \u001b[0mscaler\u001b[0m\u001b[1;33m.\u001b[0m\u001b[0mfit\u001b[0m\u001b[1;33m(\u001b[0m\u001b[0mX_train\u001b[0m\u001b[1;33m)\u001b[0m\u001b[1;33m\u001b[0m\u001b[1;33m\u001b[0m\u001b[0m\n\u001b[0m\u001b[0;32m      6\u001b[0m \u001b[1;33m\u001b[0m\u001b[0m\n\u001b[0;32m      7\u001b[0m \u001b[1;31m# Scale the data\u001b[0m\u001b[1;33m\u001b[0m\u001b[1;33m\u001b[0m\u001b[1;33m\u001b[0m\u001b[0m\n",
      "\u001b[1;32mc:\\Users\\matth\\anaconda3\\envs\\PythonData\\lib\\site-packages\\sklearn\\preprocessing\\_data.py\u001b[0m in \u001b[0;36mfit\u001b[1;34m(self, X, y, sample_weight)\u001b[0m\n\u001b[0;32m    804\u001b[0m         \u001b[1;31m# Reset internal state before fitting\u001b[0m\u001b[1;33m\u001b[0m\u001b[1;33m\u001b[0m\u001b[1;33m\u001b[0m\u001b[0m\n\u001b[0;32m    805\u001b[0m         \u001b[0mself\u001b[0m\u001b[1;33m.\u001b[0m\u001b[0m_reset\u001b[0m\u001b[1;33m(\u001b[0m\u001b[1;33m)\u001b[0m\u001b[1;33m\u001b[0m\u001b[1;33m\u001b[0m\u001b[0m\n\u001b[1;32m--> 806\u001b[1;33m         \u001b[1;32mreturn\u001b[0m \u001b[0mself\u001b[0m\u001b[1;33m.\u001b[0m\u001b[0mpartial_fit\u001b[0m\u001b[1;33m(\u001b[0m\u001b[0mX\u001b[0m\u001b[1;33m,\u001b[0m \u001b[0my\u001b[0m\u001b[1;33m,\u001b[0m \u001b[0msample_weight\u001b[0m\u001b[1;33m)\u001b[0m\u001b[1;33m\u001b[0m\u001b[1;33m\u001b[0m\u001b[0m\n\u001b[0m\u001b[0;32m    807\u001b[0m \u001b[1;33m\u001b[0m\u001b[0m\n\u001b[0;32m    808\u001b[0m     \u001b[1;32mdef\u001b[0m \u001b[0mpartial_fit\u001b[0m\u001b[1;33m(\u001b[0m\u001b[0mself\u001b[0m\u001b[1;33m,\u001b[0m \u001b[0mX\u001b[0m\u001b[1;33m,\u001b[0m \u001b[0my\u001b[0m\u001b[1;33m=\u001b[0m\u001b[1;32mNone\u001b[0m\u001b[1;33m,\u001b[0m \u001b[0msample_weight\u001b[0m\u001b[1;33m=\u001b[0m\u001b[1;32mNone\u001b[0m\u001b[1;33m)\u001b[0m\u001b[1;33m:\u001b[0m\u001b[1;33m\u001b[0m\u001b[1;33m\u001b[0m\u001b[0m\n",
      "\u001b[1;32mc:\\Users\\matth\\anaconda3\\envs\\PythonData\\lib\\site-packages\\sklearn\\preprocessing\\_data.py\u001b[0m in \u001b[0;36mpartial_fit\u001b[1;34m(self, X, y, sample_weight)\u001b[0m\n\u001b[0;32m    845\u001b[0m             \u001b[0mdtype\u001b[0m\u001b[1;33m=\u001b[0m\u001b[0mFLOAT_DTYPES\u001b[0m\u001b[1;33m,\u001b[0m\u001b[1;33m\u001b[0m\u001b[1;33m\u001b[0m\u001b[0m\n\u001b[0;32m    846\u001b[0m             \u001b[0mforce_all_finite\u001b[0m\u001b[1;33m=\u001b[0m\u001b[1;34m\"allow-nan\"\u001b[0m\u001b[1;33m,\u001b[0m\u001b[1;33m\u001b[0m\u001b[1;33m\u001b[0m\u001b[0m\n\u001b[1;32m--> 847\u001b[1;33m             \u001b[0mreset\u001b[0m\u001b[1;33m=\u001b[0m\u001b[0mfirst_call\u001b[0m\u001b[1;33m,\u001b[0m\u001b[1;33m\u001b[0m\u001b[1;33m\u001b[0m\u001b[0m\n\u001b[0m\u001b[0;32m    848\u001b[0m         )\n\u001b[0;32m    849\u001b[0m         \u001b[0mn_features\u001b[0m \u001b[1;33m=\u001b[0m \u001b[0mX\u001b[0m\u001b[1;33m.\u001b[0m\u001b[0mshape\u001b[0m\u001b[1;33m[\u001b[0m\u001b[1;36m1\u001b[0m\u001b[1;33m]\u001b[0m\u001b[1;33m\u001b[0m\u001b[1;33m\u001b[0m\u001b[0m\n",
      "\u001b[1;32mc:\\Users\\matth\\anaconda3\\envs\\PythonData\\lib\\site-packages\\sklearn\\base.py\u001b[0m in \u001b[0;36m_validate_data\u001b[1;34m(self, X, y, reset, validate_separately, **check_params)\u001b[0m\n\u001b[0;32m    564\u001b[0m             \u001b[1;32mraise\u001b[0m \u001b[0mValueError\u001b[0m\u001b[1;33m(\u001b[0m\u001b[1;34m\"Validation should be done on X, y or both.\"\u001b[0m\u001b[1;33m)\u001b[0m\u001b[1;33m\u001b[0m\u001b[1;33m\u001b[0m\u001b[0m\n\u001b[0;32m    565\u001b[0m         \u001b[1;32melif\u001b[0m \u001b[1;32mnot\u001b[0m \u001b[0mno_val_X\u001b[0m \u001b[1;32mand\u001b[0m \u001b[0mno_val_y\u001b[0m\u001b[1;33m:\u001b[0m\u001b[1;33m\u001b[0m\u001b[1;33m\u001b[0m\u001b[0m\n\u001b[1;32m--> 566\u001b[1;33m             \u001b[0mX\u001b[0m \u001b[1;33m=\u001b[0m \u001b[0mcheck_array\u001b[0m\u001b[1;33m(\u001b[0m\u001b[0mX\u001b[0m\u001b[1;33m,\u001b[0m \u001b[1;33m**\u001b[0m\u001b[0mcheck_params\u001b[0m\u001b[1;33m)\u001b[0m\u001b[1;33m\u001b[0m\u001b[1;33m\u001b[0m\u001b[0m\n\u001b[0m\u001b[0;32m    567\u001b[0m             \u001b[0mout\u001b[0m \u001b[1;33m=\u001b[0m \u001b[0mX\u001b[0m\u001b[1;33m\u001b[0m\u001b[1;33m\u001b[0m\u001b[0m\n\u001b[0;32m    568\u001b[0m         \u001b[1;32melif\u001b[0m \u001b[0mno_val_X\u001b[0m \u001b[1;32mand\u001b[0m \u001b[1;32mnot\u001b[0m \u001b[0mno_val_y\u001b[0m\u001b[1;33m:\u001b[0m\u001b[1;33m\u001b[0m\u001b[1;33m\u001b[0m\u001b[0m\n",
      "\u001b[1;32mc:\\Users\\matth\\anaconda3\\envs\\PythonData\\lib\\site-packages\\sklearn\\utils\\validation.py\u001b[0m in \u001b[0;36mcheck_array\u001b[1;34m(array, accept_sparse, accept_large_sparse, dtype, order, copy, force_all_finite, ensure_2d, allow_nd, ensure_min_samples, ensure_min_features, estimator)\u001b[0m\n\u001b[0;32m    744\u001b[0m                     \u001b[0marray\u001b[0m \u001b[1;33m=\u001b[0m \u001b[0marray\u001b[0m\u001b[1;33m.\u001b[0m\u001b[0mastype\u001b[0m\u001b[1;33m(\u001b[0m\u001b[0mdtype\u001b[0m\u001b[1;33m,\u001b[0m \u001b[0mcasting\u001b[0m\u001b[1;33m=\u001b[0m\u001b[1;34m\"unsafe\"\u001b[0m\u001b[1;33m,\u001b[0m \u001b[0mcopy\u001b[0m\u001b[1;33m=\u001b[0m\u001b[1;32mFalse\u001b[0m\u001b[1;33m)\u001b[0m\u001b[1;33m\u001b[0m\u001b[1;33m\u001b[0m\u001b[0m\n\u001b[0;32m    745\u001b[0m                 \u001b[1;32melse\u001b[0m\u001b[1;33m:\u001b[0m\u001b[1;33m\u001b[0m\u001b[1;33m\u001b[0m\u001b[0m\n\u001b[1;32m--> 746\u001b[1;33m                     \u001b[0marray\u001b[0m \u001b[1;33m=\u001b[0m \u001b[0mnp\u001b[0m\u001b[1;33m.\u001b[0m\u001b[0masarray\u001b[0m\u001b[1;33m(\u001b[0m\u001b[0marray\u001b[0m\u001b[1;33m,\u001b[0m \u001b[0morder\u001b[0m\u001b[1;33m=\u001b[0m\u001b[0morder\u001b[0m\u001b[1;33m,\u001b[0m \u001b[0mdtype\u001b[0m\u001b[1;33m=\u001b[0m\u001b[0mdtype\u001b[0m\u001b[1;33m)\u001b[0m\u001b[1;33m\u001b[0m\u001b[1;33m\u001b[0m\u001b[0m\n\u001b[0m\u001b[0;32m    747\u001b[0m             \u001b[1;32mexcept\u001b[0m \u001b[0mComplexWarning\u001b[0m \u001b[1;32mas\u001b[0m \u001b[0mcomplex_warning\u001b[0m\u001b[1;33m:\u001b[0m\u001b[1;33m\u001b[0m\u001b[1;33m\u001b[0m\u001b[0m\n\u001b[0;32m    748\u001b[0m                 raise ValueError(\n",
      "\u001b[1;31mValueError\u001b[0m: could not convert string to float: 'DL'"
     ]
    }
   ],
   "source": [
    "# Create a StandardScaler instances\n",
    "scaler = StandardScaler()\n",
    "\n",
    "# Fit the StandardScaler\n",
    "X_scaler = scaler.fit(X_train)\n",
    "\n",
    "# Scale the data\n",
    "X_train_scaled = X_scaler.transform(X_train)\n",
    "X_test_scaled = X_scaler.transform(X_test)"
   ]
  },
  {
   "cell_type": "code",
   "execution_count": 124,
   "metadata": {},
   "outputs": [
    {
     "ename": "ValueError",
     "evalue": "could not convert string to float: 'DL'",
     "output_type": "error",
     "traceback": [
      "\u001b[1;31m---------------------------------------------------------------------------\u001b[0m",
      "\u001b[1;31mValueError\u001b[0m                                Traceback (most recent call last)",
      "\u001b[1;32m~\\AppData\\Local\\Temp\\ipykernel_96476\\3943448545.py\u001b[0m in \u001b[0;36m<module>\u001b[1;34m\u001b[0m\n\u001b[1;32m----> 1\u001b[1;33m \u001b[0mclf\u001b[0m \u001b[1;33m=\u001b[0m \u001b[0mRandomForestClassifier\u001b[0m\u001b[1;33m(\u001b[0m\u001b[0mrandom_state\u001b[0m\u001b[1;33m=\u001b[0m\u001b[1;36m1\u001b[0m\u001b[1;33m,\u001b[0m \u001b[0mn_estimators\u001b[0m\u001b[1;33m=\u001b[0m\u001b[1;36m500\u001b[0m\u001b[1;33m)\u001b[0m\u001b[1;33m.\u001b[0m\u001b[0mfit\u001b[0m\u001b[1;33m(\u001b[0m\u001b[0mX_train\u001b[0m\u001b[1;33m,\u001b[0m \u001b[0my_train\u001b[0m\u001b[1;33m)\u001b[0m\u001b[1;33m\u001b[0m\u001b[1;33m\u001b[0m\u001b[0m\n\u001b[0m\u001b[0;32m      2\u001b[0m \u001b[0mprint\u001b[0m\u001b[1;33m(\u001b[0m\u001b[1;34mf'Training Score: {clf.score(X_train, y_train)}'\u001b[0m\u001b[1;33m)\u001b[0m\u001b[1;33m\u001b[0m\u001b[1;33m\u001b[0m\u001b[0m\n\u001b[0;32m      3\u001b[0m \u001b[0mprint\u001b[0m\u001b[1;33m(\u001b[0m\u001b[1;34mf'Testing Score: {clf.score(X_test, y_test)}'\u001b[0m\u001b[1;33m)\u001b[0m\u001b[1;33m\u001b[0m\u001b[1;33m\u001b[0m\u001b[0m\n",
      "\u001b[1;32mc:\\Users\\matth\\anaconda3\\envs\\PythonData\\lib\\site-packages\\sklearn\\ensemble\\_forest.py\u001b[0m in \u001b[0;36mfit\u001b[1;34m(self, X, y, sample_weight)\u001b[0m\n\u001b[0;32m    326\u001b[0m             \u001b[1;32mraise\u001b[0m \u001b[0mValueError\u001b[0m\u001b[1;33m(\u001b[0m\u001b[1;34m\"sparse multilabel-indicator for y is not supported.\"\u001b[0m\u001b[1;33m)\u001b[0m\u001b[1;33m\u001b[0m\u001b[1;33m\u001b[0m\u001b[0m\n\u001b[0;32m    327\u001b[0m         X, y = self._validate_data(\n\u001b[1;32m--> 328\u001b[1;33m             \u001b[0mX\u001b[0m\u001b[1;33m,\u001b[0m \u001b[0my\u001b[0m\u001b[1;33m,\u001b[0m \u001b[0mmulti_output\u001b[0m\u001b[1;33m=\u001b[0m\u001b[1;32mTrue\u001b[0m\u001b[1;33m,\u001b[0m \u001b[0maccept_sparse\u001b[0m\u001b[1;33m=\u001b[0m\u001b[1;34m\"csc\"\u001b[0m\u001b[1;33m,\u001b[0m \u001b[0mdtype\u001b[0m\u001b[1;33m=\u001b[0m\u001b[0mDTYPE\u001b[0m\u001b[1;33m\u001b[0m\u001b[1;33m\u001b[0m\u001b[0m\n\u001b[0m\u001b[0;32m    329\u001b[0m         )\n\u001b[0;32m    330\u001b[0m         \u001b[1;32mif\u001b[0m \u001b[0msample_weight\u001b[0m \u001b[1;32mis\u001b[0m \u001b[1;32mnot\u001b[0m \u001b[1;32mNone\u001b[0m\u001b[1;33m:\u001b[0m\u001b[1;33m\u001b[0m\u001b[1;33m\u001b[0m\u001b[0m\n",
      "\u001b[1;32mc:\\Users\\matth\\anaconda3\\envs\\PythonData\\lib\\site-packages\\sklearn\\base.py\u001b[0m in \u001b[0;36m_validate_data\u001b[1;34m(self, X, y, reset, validate_separately, **check_params)\u001b[0m\n\u001b[0;32m    579\u001b[0m                 \u001b[0my\u001b[0m \u001b[1;33m=\u001b[0m \u001b[0mcheck_array\u001b[0m\u001b[1;33m(\u001b[0m\u001b[0my\u001b[0m\u001b[1;33m,\u001b[0m \u001b[1;33m**\u001b[0m\u001b[0mcheck_y_params\u001b[0m\u001b[1;33m)\u001b[0m\u001b[1;33m\u001b[0m\u001b[1;33m\u001b[0m\u001b[0m\n\u001b[0;32m    580\u001b[0m             \u001b[1;32melse\u001b[0m\u001b[1;33m:\u001b[0m\u001b[1;33m\u001b[0m\u001b[1;33m\u001b[0m\u001b[0m\n\u001b[1;32m--> 581\u001b[1;33m                 \u001b[0mX\u001b[0m\u001b[1;33m,\u001b[0m \u001b[0my\u001b[0m \u001b[1;33m=\u001b[0m \u001b[0mcheck_X_y\u001b[0m\u001b[1;33m(\u001b[0m\u001b[0mX\u001b[0m\u001b[1;33m,\u001b[0m \u001b[0my\u001b[0m\u001b[1;33m,\u001b[0m \u001b[1;33m**\u001b[0m\u001b[0mcheck_params\u001b[0m\u001b[1;33m)\u001b[0m\u001b[1;33m\u001b[0m\u001b[1;33m\u001b[0m\u001b[0m\n\u001b[0m\u001b[0;32m    582\u001b[0m             \u001b[0mout\u001b[0m \u001b[1;33m=\u001b[0m \u001b[0mX\u001b[0m\u001b[1;33m,\u001b[0m \u001b[0my\u001b[0m\u001b[1;33m\u001b[0m\u001b[1;33m\u001b[0m\u001b[0m\n\u001b[0;32m    583\u001b[0m \u001b[1;33m\u001b[0m\u001b[0m\n",
      "\u001b[1;32mc:\\Users\\matth\\anaconda3\\envs\\PythonData\\lib\\site-packages\\sklearn\\utils\\validation.py\u001b[0m in \u001b[0;36mcheck_X_y\u001b[1;34m(X, y, accept_sparse, accept_large_sparse, dtype, order, copy, force_all_finite, ensure_2d, allow_nd, multi_output, ensure_min_samples, ensure_min_features, y_numeric, estimator)\u001b[0m\n\u001b[0;32m    974\u001b[0m         \u001b[0mensure_min_samples\u001b[0m\u001b[1;33m=\u001b[0m\u001b[0mensure_min_samples\u001b[0m\u001b[1;33m,\u001b[0m\u001b[1;33m\u001b[0m\u001b[1;33m\u001b[0m\u001b[0m\n\u001b[0;32m    975\u001b[0m         \u001b[0mensure_min_features\u001b[0m\u001b[1;33m=\u001b[0m\u001b[0mensure_min_features\u001b[0m\u001b[1;33m,\u001b[0m\u001b[1;33m\u001b[0m\u001b[1;33m\u001b[0m\u001b[0m\n\u001b[1;32m--> 976\u001b[1;33m         \u001b[0mestimator\u001b[0m\u001b[1;33m=\u001b[0m\u001b[0mestimator\u001b[0m\u001b[1;33m,\u001b[0m\u001b[1;33m\u001b[0m\u001b[1;33m\u001b[0m\u001b[0m\n\u001b[0m\u001b[0;32m    977\u001b[0m     )\n\u001b[0;32m    978\u001b[0m \u001b[1;33m\u001b[0m\u001b[0m\n",
      "\u001b[1;32mc:\\Users\\matth\\anaconda3\\envs\\PythonData\\lib\\site-packages\\sklearn\\utils\\validation.py\u001b[0m in \u001b[0;36mcheck_array\u001b[1;34m(array, accept_sparse, accept_large_sparse, dtype, order, copy, force_all_finite, ensure_2d, allow_nd, ensure_min_samples, ensure_min_features, estimator)\u001b[0m\n\u001b[0;32m    744\u001b[0m                     \u001b[0marray\u001b[0m \u001b[1;33m=\u001b[0m \u001b[0marray\u001b[0m\u001b[1;33m.\u001b[0m\u001b[0mastype\u001b[0m\u001b[1;33m(\u001b[0m\u001b[0mdtype\u001b[0m\u001b[1;33m,\u001b[0m \u001b[0mcasting\u001b[0m\u001b[1;33m=\u001b[0m\u001b[1;34m\"unsafe\"\u001b[0m\u001b[1;33m,\u001b[0m \u001b[0mcopy\u001b[0m\u001b[1;33m=\u001b[0m\u001b[1;32mFalse\u001b[0m\u001b[1;33m)\u001b[0m\u001b[1;33m\u001b[0m\u001b[1;33m\u001b[0m\u001b[0m\n\u001b[0;32m    745\u001b[0m                 \u001b[1;32melse\u001b[0m\u001b[1;33m:\u001b[0m\u001b[1;33m\u001b[0m\u001b[1;33m\u001b[0m\u001b[0m\n\u001b[1;32m--> 746\u001b[1;33m                     \u001b[0marray\u001b[0m \u001b[1;33m=\u001b[0m \u001b[0mnp\u001b[0m\u001b[1;33m.\u001b[0m\u001b[0masarray\u001b[0m\u001b[1;33m(\u001b[0m\u001b[0marray\u001b[0m\u001b[1;33m,\u001b[0m \u001b[0morder\u001b[0m\u001b[1;33m=\u001b[0m\u001b[0morder\u001b[0m\u001b[1;33m,\u001b[0m \u001b[0mdtype\u001b[0m\u001b[1;33m=\u001b[0m\u001b[0mdtype\u001b[0m\u001b[1;33m)\u001b[0m\u001b[1;33m\u001b[0m\u001b[1;33m\u001b[0m\u001b[0m\n\u001b[0m\u001b[0;32m    747\u001b[0m             \u001b[1;32mexcept\u001b[0m \u001b[0mComplexWarning\u001b[0m \u001b[1;32mas\u001b[0m \u001b[0mcomplex_warning\u001b[0m\u001b[1;33m:\u001b[0m\u001b[1;33m\u001b[0m\u001b[1;33m\u001b[0m\u001b[0m\n\u001b[0;32m    748\u001b[0m                 raise ValueError(\n",
      "\u001b[1;31mValueError\u001b[0m: could not convert string to float: 'DL'"
     ]
    }
   ],
   "source": [
    "clf = RandomForestClassifier(random_state=1, n_estimators=500).fit(X_train, y_train)\n",
    "print(f'Training Score: {clf.score(X_train, y_train)}')\n",
    "print(f'Testing Score: {clf.score(X_test, y_test)}')"
   ]
  },
  {
   "cell_type": "code",
   "execution_count": 112,
   "metadata": {},
   "outputs": [
    {
     "name": "stdout",
     "output_type": "stream",
     "text": [
      "[0.01957363 0.11588155 0.02671949 0.01235642 0.01770372 0.07453437\n",
      " 0.01405267 0.01413583 0.01892128 0.01074294 0.01628946 0.01645848\n",
      " 0.018682   0.01699861 0.0176364  0.01301255 0.01570845 0.01371403\n",
      " 0.01050295 0.01107723 0.0105415  0.02810453 0.01104434 0.01291979\n",
      " 0.01172246 0.01594598 0.01161194 0.01284583 0.04016023 0.02011063\n",
      " 0.01166108 0.01283269 0.02629694 0.01630979 0.01528582 0.00800544\n",
      " 0.01696003 0.01449151 0.0469682  0.01637734 0.01806633 0.01411943\n",
      " 0.01714387 0.01517432 0.04015419 0.01210507 0.008706   0.01281879\n",
      " 0.01460335 0.01221054]\n"
     ]
    },
    {
     "data": {
      "image/png": "[encoded data removed]",
      "text/plain": [
       "<Figure size 432x288 with 1 Axes>"
      ]
     },
     "metadata": {
      "needs_background": "light"
     },
     "output_type": "display_data"
    }
   ],
   "source": [
    " features = clf.feature_importances_\n",
    "print(features)\n",
    "plt.bar(x = range(len(features)), height=features)\n",
    "plt.show()"
   ]
  },
  {
   "cell_type": "code",
   "execution_count": null,
   "metadata": {},
   "outputs": [],
   "source": [
    "from sklearn.feature_selection import SelectFromModel\n",
    "sel = SelectFromModel(clf)\n",
    "sel.fit(X_train_scaled, y_train)\n",
    "sel.get_support()"
   ]
  },
  {
   "cell_type": "code",
   "execution_count": null,
   "metadata": {},
   "outputs": [],
   "source": [
    " X_selected_train, X_selected_test, y_train, y_test = train_test_split(sel.transform(X), y, random_state=1)\n",
    "scaler = StandardScaler().fit(X_selected_train)\n",
    "X_selected_train_scaled = scaler.transform(X_selected_train)\n",
    "X_selected_test_scaled = scaler.transform(X_selected_test)"
   ]
  },
  {
   "cell_type": "code",
   "execution_count": null,
   "metadata": {},
   "outputs": [],
   "source": [
    "clf = LogisticRegression().fit(X_train_scaled, y_train)\n",
    "print(f'Training Score: {clf.score(X_train_scaled, y_train)}')\n",
    "print(f'Testing Score: {clf.score(X_test_scaled, y_test)}')"
   ]
  },
  {
   "cell_type": "code",
   "execution_count": null,
   "metadata": {},
   "outputs": [],
   "source": [
    "clf = LogisticRegression()\n",
    "clf.fit(X_selected_train_scaled, y_train)\n",
    "print(f'Training Score: {clf.score(X_selected_train_scaled, y_train)}')\n",
    "print(f'Testing Score: {clf.score(X_selected_test_scaled, y_test)}')"
   ]
  }
 ],
 "metadata": {
  "kernelspec": {
   "display_name": "Python 3 (ipykernel)",
   "language": "python",
   "name": "python3"
  },
  "language_info": {
   "codemirror_mode": {
    "name": "ipython",
    "version": 3
   },
   "file_extension": ".py",
   "mimetype": "text/x-python",
   "name": "python",
   "nbconvert_exporter": "python",
   "pygments_lexer": "ipython3",
   "version": "3.7.7"
  }
 },
 "nbformat": 4,
 "nbformat_minor": 4
}
