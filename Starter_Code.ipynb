{
 "cells": [
  {
   "cell_type": "markdown",
   "metadata": {},
   "source": [
    "## Preprocessing"
   ]
  },
  {
   "cell_type": "code",
   "execution_count": 1,
   "metadata": {},
   "outputs": [
    {
     "name": "stderr",
     "output_type": "stream",
     "text": [
      "2023-03-02 20:07:30.410463: I tensorflow/core/platform/cpu_feature_guard.cc:193] This TensorFlow binary is optimized with oneAPI Deep Neural Network Library (oneDNN) to use the following CPU instructions in performance-critical operations:  AVX2 FMA\n",
      "To enable them in other operations, rebuild TensorFlow with the appropriate compiler flags.\n",
      "/var/folders/vc/z_x4c0yx2cs_6rwx2wcj_sqm0000gn/T/ipykernel_55828/2020358918.py:10: DtypeWarning: Columns (7,8) have mixed types. Specify dtype option on import or set low_memory=False.\n",
      "  flights_df = pd.read_csv(\"csvs/flights.csv\")\n"
     ]
    }
   ],
   "source": [
    "# Import our dependencies\n",
    "from sklearn.model_selection import train_test_split\n",
    "from sklearn.preprocessing import StandardScaler\n",
    "import pandas as pd\n",
    "import tensorflow as tf\n",
    "\n",
    "#  Import and read the charity_data.csv.\n",
    "import pandas as pd \n",
    "airlines_df = pd.read_csv(\"csvs/airlines.csv\")\n",
    "flights_df = pd.read_csv(\"csvs/flights.csv\")\n",
    "airports_df = pd.read_csv(\"csvs/airports.csv\")\n"
   ]
  },
  {
   "cell_type": "code",
   "execution_count": 2,
   "metadata": {},
   "outputs": [
    {
     "name": "stdout",
     "output_type": "stream",
     "text": [
      "        AIRLINE TAIL_NUMBER ORIGIN_AIRPORT DESTINATION_AIRPORT  \\\n",
      "count   5819079     5804358        5819079             5819079   \n",
      "unique       14        4897            930                 930   \n",
      "top          WN      N480HA            ATL                 ATL   \n",
      "freq    1261855        3768         346836              346904   \n",
      "\n",
      "       CANCELLATION_REASON  \n",
      "count                89884  \n",
      "unique                   4  \n",
      "top                      B  \n",
      "freq                 48851  \n"
     ]
    }
   ],
   "source": [
    "print(flights_df.describe(include=['object']))"
   ]
  },
  {
   "cell_type": "code",
   "execution_count": 3,
   "metadata": {},
   "outputs": [
    {
     "data": {
      "text/plain": [
       "<bound method NDFrame.head of          MONTH  DAY  DAY_OF_WEEK AIRLINE  FLIGHT_NUMBER ORIGIN_AIRPORT  \\\n",
       "0            1    1            4      AS             98            ANC   \n",
       "1            1    1            4      AA           2336            LAX   \n",
       "2            1    1            4      US            840            SFO   \n",
       "3            1    1            4      AA            258            LAX   \n",
       "4            1    1            4      AS            135            SEA   \n",
       "...        ...  ...          ...     ...            ...            ...   \n",
       "5819074     12   31            4      B6            688            LAX   \n",
       "5819075     12   31            4      B6            745            JFK   \n",
       "5819076     12   31            4      B6           1503            JFK   \n",
       "5819077     12   31            4      B6            333            MCO   \n",
       "5819078     12   31            4      B6            839            JFK   \n",
       "\n",
       "        DESTINATION_AIRPORT  SCHEDULED_DEPARTURE  DEPARTURE_TIME  \\\n",
       "0                       SEA                    5          2354.0   \n",
       "1                       PBI                   10             2.0   \n",
       "2                       CLT                   20            18.0   \n",
       "3                       MIA                   20            15.0   \n",
       "4                       ANC                   25            24.0   \n",
       "...                     ...                  ...             ...   \n",
       "5819074                 BOS                 2359          2355.0   \n",
       "5819075                 PSE                 2359          2355.0   \n",
       "5819076                 SJU                 2359          2350.0   \n",
       "5819077                 SJU                 2359          2353.0   \n",
       "5819078                 BQN                 2359            14.0   \n",
       "\n",
       "         DEPARTURE_DELAY  ...  ARRIVAL_TIME  ARRIVAL_DELAY  DIVERTED  \\\n",
       "0                  -11.0  ...         408.0          -22.0         0   \n",
       "1                   -8.0  ...         741.0           -9.0         0   \n",
       "2                   -2.0  ...         811.0            5.0         0   \n",
       "3                   -5.0  ...         756.0           -9.0         0   \n",
       "4                   -1.0  ...         259.0          -21.0         0   \n",
       "...                  ...  ...           ...            ...       ...   \n",
       "5819074             -4.0  ...         753.0          -26.0         0   \n",
       "5819075             -4.0  ...         430.0          -16.0         0   \n",
       "5819076             -9.0  ...         432.0           -8.0         0   \n",
       "5819077             -6.0  ...         330.0          -10.0         0   \n",
       "5819078             15.0  ...         442.0            2.0         0   \n",
       "\n",
       "         CANCELLED  CANCELLATION_REASON  AIR_SYSTEM_DELAY  SECURITY_DELAY  \\\n",
       "0                0                  NaN               NaN             NaN   \n",
       "1                0                  NaN               NaN             NaN   \n",
       "2                0                  NaN               NaN             NaN   \n",
       "3                0                  NaN               NaN             NaN   \n",
       "4                0                  NaN               NaN             NaN   \n",
       "...            ...                  ...               ...             ...   \n",
       "5819074          0                  NaN               NaN             NaN   \n",
       "5819075          0                  NaN               NaN             NaN   \n",
       "5819076          0                  NaN               NaN             NaN   \n",
       "5819077          0                  NaN               NaN             NaN   \n",
       "5819078          0                  NaN               NaN             NaN   \n",
       "\n",
       "         AIRLINE_DELAY  LATE_AIRCRAFT_DELAY  WEATHER_DELAY  \n",
       "0                  NaN                  NaN            NaN  \n",
       "1                  NaN                  NaN            NaN  \n",
       "2                  NaN                  NaN            NaN  \n",
       "3                  NaN                  NaN            NaN  \n",
       "4                  NaN                  NaN            NaN  \n",
       "...                ...                  ...            ...  \n",
       "5819074            NaN                  NaN            NaN  \n",
       "5819075            NaN                  NaN            NaN  \n",
       "5819076            NaN                  NaN            NaN  \n",
       "5819077            NaN                  NaN            NaN  \n",
       "5819078            NaN                  NaN            NaN  \n",
       "\n",
       "[5819079 rows x 26 columns]>"
      ]
     },
     "execution_count": 3,
     "metadata": {},
     "output_type": "execute_result"
    }
   ],
   "source": [
    "# Drop the non-beneficial columns\n",
    "flights = flights_df.drop(['TAIL_NUMBER', 'TAXI_OUT', 'YEAR', 'WHEELS_OFF', 'WHEELS_ON'], axis=1)\n",
    "flights.head"
   ]
  },
  {
   "cell_type": "code",
   "execution_count": 4,
   "metadata": {},
   "outputs": [
    {
     "data": {
      "text/plain": [
       "MONTH                    12\n",
       "DAY                      31\n",
       "DAY_OF_WEEK               7\n",
       "AIRLINE                  14\n",
       "FLIGHT_NUMBER          6952\n",
       "ORIGIN_AIRPORT          930\n",
       "DESTINATION_AIRPORT     930\n",
       "SCHEDULED_DEPARTURE    1321\n",
       "DEPARTURE_TIME         1440\n",
       "DEPARTURE_DELAY        1217\n",
       "SCHEDULED_TIME          550\n",
       "ELAPSED_TIME            712\n",
       "AIR_TIME                675\n",
       "DISTANCE               1363\n",
       "TAXI_IN                 185\n",
       "SCHEDULED_ARRIVAL      1435\n",
       "ARRIVAL_TIME           1440\n",
       "ARRIVAL_DELAY          1240\n",
       "DIVERTED                  2\n",
       "CANCELLED                 2\n",
       "CANCELLATION_REASON       4\n",
       "AIR_SYSTEM_DELAY        570\n",
       "SECURITY_DELAY          154\n",
       "AIRLINE_DELAY          1067\n",
       "LATE_AIRCRAFT_DELAY     695\n",
       "WEATHER_DELAY           632\n",
       "dtype: int64"
      ]
     },
     "execution_count": 4,
     "metadata": {},
     "output_type": "execute_result"
    }
   ],
   "source": [
    "# Determine the number of unique values in each column.\n",
    "flights.nunique()"
   ]
  },
  {
   "cell_type": "code",
   "execution_count": 5,
   "metadata": {},
   "outputs": [
    {
     "data": {
      "text/plain": [
       "WN    1261855\n",
       "DL     875881\n",
       "AA     725984\n",
       "OO     588353\n",
       "EV     571977\n",
       "UA     515723\n",
       "MQ     294632\n",
       "B6     267048\n",
       "US     198715\n",
       "AS     172521\n",
       "NK     117379\n",
       "F9      90836\n",
       "HA      76272\n",
       "VX      61903\n",
       "Name: AIRLINE, dtype: int64"
      ]
     },
     "execution_count": 5,
     "metadata": {},
     "output_type": "execute_result"
    }
   ],
   "source": [
    "# Look at value counts for binning\n",
    "counts = flights['AIRLINE'].value_counts()\n",
    "counts"
   ]
  },
  {
   "cell_type": "code",
   "execution_count": 6,
   "metadata": {},
   "outputs": [
    {
     "data": {
      "text/plain": [
       "['UA', 'MQ', 'B6', 'US', 'AS', 'NK', 'F9', 'HA', 'VX']"
      ]
     },
     "execution_count": 6,
     "metadata": {},
     "output_type": "execute_result"
    }
   ],
   "source": [
    "# Choose a cutoff value and create a list of types to be replaced\n",
    "# use the variable name `application_types_to_replace\n",
    "flight_types_to_replace = list(counts[counts<571977].index)\n",
    "flight_types_to_replace"
   ]
  },
  {
   "cell_type": "code",
   "execution_count": 7,
   "metadata": {},
   "outputs": [
    {
     "data": {
      "text/plain": [
       "Other    1795029\n",
       "WN       1261855\n",
       "DL        875881\n",
       "AA        725984\n",
       "OO        588353\n",
       "EV        571977\n",
       "Name: AIRLINE, dtype: int64"
      ]
     },
     "execution_count": 7,
     "metadata": {},
     "output_type": "execute_result"
    }
   ],
   "source": [
    "# Replace in dataframe\n",
    "for airline in flight_types_to_replace:\n",
    "    flights['AIRLINE'] = flights['AIRLINE'].replace(airline,\"Other\")\n",
    "\n",
    "# Check to make sure binning was successful\n",
    "flights['AIRLINE'].value_counts()"
   ]
  },
  {
   "cell_type": "code",
   "execution_count": 8,
   "metadata": {},
   "outputs": [
    {
     "data": {
      "text/plain": [
       "2     195986\n",
       "16    195899\n",
       "20    195707\n",
       "13    195089\n",
       "9     194224\n",
       "8     193964\n",
       "23    193560\n",
       "19    193284\n",
       "15    192950\n",
       "22    192725\n",
       "27    191920\n",
       "28    191401\n",
       "18    191393\n",
       "17    191319\n",
       "6     191232\n",
       "4     190893\n",
       "12    190872\n",
       "11    190756\n",
       "3     190007\n",
       "5     189766\n",
       "1     189477\n",
       "21    189413\n",
       "10    189288\n",
       "14    188611\n",
       "7     187598\n",
       "26    187387\n",
       "25    187317\n",
       "24    185017\n",
       "29    179441\n",
       "30    178771\n",
       "31    103812\n",
       "Name: DAY, dtype: int64"
      ]
     },
     "execution_count": 8,
     "metadata": {},
     "output_type": "execute_result"
    }
   ],
   "source": [
    "# Look at DAY value counts for binning\n",
    "day_counts = flights['DAY'].value_counts()\n",
    "day_counts"
   ]
  },
  {
   "cell_type": "code",
   "execution_count": 9,
   "metadata": {},
   "outputs": [
    {
     "data": {
      "text/plain": [
       "['AS', 'NK', 'F9', 'HA', 'VX']"
      ]
     },
     "execution_count": 9,
     "metadata": {},
     "output_type": "execute_result"
    }
   ],
   "source": [
    "# You may find it helpful to look at CLASSIFICATION value counts \n",
    "flights_to_replace = list(counts[counts<195089].index)\n",
    "flights_to_replace"
   ]
  },
  {
   "cell_type": "code",
   "execution_count": null,
   "metadata": {},
   "outputs": [],
   "source": [
    "# Convert categorical data to numeric \n",
    "flights = pd.get_dummies(flights,dtype=float)\n",
    "flights.head()"
   ]
  },
  {
   "cell_type": "code",
   "execution_count": null,
   "metadata": {},
   "outputs": [],
   "source": [
    "y = application_df['IS_SUCCESSFUL'].values\n",
    "y"
   ]
  },
  {
   "cell_type": "code",
   "execution_count": null,
   "metadata": {},
   "outputs": [],
   "source": [
    "X = application_df.drop('IS_SUCCESSFUL', axis=1).values\n",
    "X"
   ]
  },
  {
   "cell_type": "code",
   "execution_count": null,
   "metadata": {},
   "outputs": [],
   "source": [
    "# Split the preprocessed data into a training and testing dataset\n",
    "X_train, X_test, y_train, y_test = train_test_split(X,y,random_state = 42)"
   ]
  },
  {
   "cell_type": "code",
   "execution_count": null,
   "metadata": {},
   "outputs": [],
   "source": [
    "# Create a StandardScaler instances\n",
    "scaler = StandardScaler()\n",
    "\n",
    "# Fit the StandardScaler\n",
    "X_scaler = scaler.fit(X_train)\n",
    "\n",
    "# Scale the data\n",
    "X_train_scaled = X_scaler.transform(X_train)\n",
    "X_test_scaled = X_scaler.transform(X_test)"
   ]
  },
  {
   "cell_type": "markdown",
   "metadata": {},
   "source": [
    "## Compile, Train and Evaluate the Model"
   ]
  },
  {
   "cell_type": "code",
   "execution_count": null,
   "metadata": {},
   "outputs": [],
   "source": [
    "# Define the model - deep neural net, i.e., the number of input features and hidden nodes for each layer.\n",
    "number_input_features = len( X_train_scaled[0])\n",
    "hidden_nodes_layer1=7\n",
    "hidden_nodes_layer2=14\n",
    "hidden_nodes_layer3=21\n",
    "nn = tf.keras.models.Sequential()\n",
    "\n",
    "nn = tf.keras.models.Sequential()\n",
    "\n",
    "# First hidden layer\n",
    "nn.add(tf.keras.layers.Dense(units=hidden_nodes_layer1, input_dim=number_input_features, activation='relu'))\n",
    "\n",
    "# Second hidden layer\n",
    "nn.add(tf.keras.layers.Dense(units=hidden_nodes_layer2, activation='relu'))\n",
    "\n",
    "# Output layer\n",
    "nn.add(tf.keras.layers.Dense(units=1, activation='sigmoid'))\n",
    "\n",
    "# Check the structure of the model\n",
    "nn.summary()"
   ]
  },
  {
   "cell_type": "code",
   "execution_count": null,
   "metadata": {},
   "outputs": [],
   "source": [
    "# Compile the model\n",
    "nn.compile(loss = 'binary_crossentropy', optimizer = 'adam', metrics=['accuracy'])"
   ]
  },
  {
   "cell_type": "code",
   "execution_count": null,
   "metadata": {},
   "outputs": [],
   "source": [
    "# Train the model\n",
    "fit_model = nn.fit(X_train_scaled,y_train,validation_split=0.15, epochs=100)"
   ]
  },
  {
   "cell_type": "code",
   "execution_count": null,
   "metadata": {},
   "outputs": [],
   "source": [
    "# Evaluate the model using the test data\n",
    "model_loss, model_accuracy = nn.evaluate(X_test_scaled,y_test,verbose=2)\n",
    "print(f\"Loss: {model_loss}, Accuracy: {model_accuracy}\")"
   ]
  }
 ],
 "metadata": {
  "kernelspec": {
   "display_name": "Python 3 (ipykernel)",
   "language": "python",
   "name": "python3"
  },
  "language_info": {
   "codemirror_mode": {
    "name": "ipython",
    "version": 3
   },
   "file_extension": ".py",
   "mimetype": "text/x-python",
   "name": "python",
   "nbconvert_exporter": "python",
   "pygments_lexer": "ipython3",
   "version": "3.9.12"
  }
 },
 "nbformat": 4,
 "nbformat_minor": 4
}
